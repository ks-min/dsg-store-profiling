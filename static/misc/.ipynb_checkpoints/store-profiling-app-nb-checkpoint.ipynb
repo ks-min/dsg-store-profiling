{
 "cells": [
  {
   "cell_type": "code",
   "execution_count": 1,
   "metadata": {
    "collapsed": true
   },
   "outputs": [],
   "source": [
    "import os\n",
    "\n",
    "import numpy as np\n",
    "import pandas as pd\n",
    "import sqlite3"
   ]
  },
  {
   "cell_type": "code",
   "execution_count": 2,
   "metadata": {
    "collapsed": false
   },
   "outputs": [],
   "source": [
    "df = pd.read_excel('store_attributes.xlsx')\n",
    "col_names = df.columns.values\n",
    "col_names = [col_name for col_name in col_names if 'Unnamed' not in col_name]\n",
    "df = df[col_names].drop('SosLogin', axis=1)\n",
    "col_names = df.columns.values"
   ]
  },
  {
   "cell_type": "code",
   "execution_count": 3,
   "metadata": {
    "collapsed": false
   },
   "outputs": [],
   "source": [
    "db_col_names =  \"\"\"(StoreID text,\n",
    " StoreType text,\n",
    " Levels text,\n",
    " ExteriorEntrances text,\n",
    " MallEntrances text,\n",
    " TotalEntrances text,\n",
    " Registers text,\n",
    " Address1 text,\n",
    " Address2 text,\n",
    " City text,\n",
    " State text,\n",
    " Zip text,\n",
    " Climate text,\n",
    " Notes text,\n",
    " CurrentFutureDeckType text,\n",
    " PreviousDeckType text,\n",
    " PFRemodelWave text,\n",
    " PFStartCxnMonday text,\n",
    " PFIntermedCompleteFriday text,\n",
    " PFInStoreThursday text,\n",
    " PFSoftOpenSaturday text,\n",
    " PFReGrandOpenFriday text,\n",
    " PFGondoRuns text,\n",
    " CurrentFutureStatePrototype text,\n",
    " FootwearDeckTables text,\n",
    " FootwearPanelWidth text,\n",
    " GaitAnalysis text,\n",
    " SoccerShopTables text,\n",
    " FootballBaseballShopTables text,\n",
    " SSFW2RunningBillboardGraphic text,\n",
    " SSFW2TeamFootwearBillboardGraphic text,\n",
    " SSFW2YouthHikingBillboardGraphic text,\n",
    " SSFW1TallGondolas text,\n",
    " SSFW2TallGondolas text,\n",
    " SSFW3TallGondolas text,\n",
    " FootwearMiscNotes text,\n",
    " PackArms text,\n",
    " Fish text,\n",
    " ReelFixture text,\n",
    " Gun text,\n",
    " Lodge text,\n",
    " LodgeMiscNotes text,\n",
    " Hockey text,\n",
    " Lacrosse text,\n",
    " Bikes text,\n",
    " ThirtyInchFootwearEndcaps text,\n",
    " ThirtySixInchFootwearEndcaps text,\n",
    " FootwearTableEndcaps text,\n",
    " FootwearFeatureLegacyTables text,\n",
    " MensApparelTables text,\n",
    " WomensApparelTables text,\n",
    " ApparelTableSize text,\n",
    " GolfBallEndcaps text,\n",
    " GolfBallEndcaps30vs36 text,\n",
    " FourByFourBulkStacks text,\n",
    " IronWallGraphicsSize text,\n",
    " TNFHardShopWallSize text,\n",
    " WomensPortalWall text,\n",
    " UAFixture text,\n",
    " FrameType text,\n",
    " ThreeTierStanchionSignHolder text,\n",
    " ThreeSidedStanchionSignTabHolder text,\n",
    " YearOpened text,\n",
    " MonthOpened text,\n",
    " SelectDoors text)\"\"\""
   ]
  },
  {
   "cell_type": "code",
   "execution_count": 9,
   "metadata": {
    "collapsed": false
   },
   "outputs": [
    {
     "ename": "NameError",
     "evalue": "name 't' is not defined",
     "output_type": "error",
     "traceback": [
      "\u001b[1;31m---------------------------------------------------------------------------\u001b[0m",
      "\u001b[1;31mNameError\u001b[0m                                 Traceback (most recent call last)",
      "\u001b[1;32m<ipython-input-9-03bcc7295869>\u001b[0m in \u001b[0;36m<module>\u001b[1;34m()\u001b[0m\n\u001b[1;32m----> 1\u001b[1;33m \u001b[0mc\u001b[0m\u001b[1;33m.\u001b[0m\u001b[0mexecute\u001b[0m\u001b[1;33m(\u001b[0m\u001b[1;34m'SELECT * FROM Store WHERE State = ?'\u001b[0m\u001b[1;33m,\u001b[0m \u001b[0mt\u001b[0m\u001b[1;33m)\u001b[0m\u001b[1;33m\u001b[0m\u001b[0m\n\u001b[0m",
      "\u001b[1;31mNameError\u001b[0m: name 't' is not defined"
     ]
    }
   ],
   "source": [
    "c.execute('SELECT * FROM Store WHERE State = ?', t)"
   ]
  },
  {
   "cell_type": "code",
   "execution_count": 11,
   "metadata": {
    "collapsed": false,
    "scrolled": true
   },
   "outputs": [
    {
     "ename": "OperationalError",
     "evalue": "near \"?\": syntax error",
     "output_type": "error",
     "traceback": [
      "\u001b[1;31m---------------------------------------------------------------------------\u001b[0m",
      "\u001b[1;31mOperationalError\u001b[0m                          Traceback (most recent call last)",
      "\u001b[1;32m<ipython-input-11-2fa701a12a00>\u001b[0m in \u001b[0;36m<module>\u001b[1;34m()\u001b[0m\n\u001b[0;32m      2\u001b[0m \u001b[0mc\u001b[0m \u001b[1;33m=\u001b[0m \u001b[0mconn\u001b[0m\u001b[1;33m.\u001b[0m\u001b[0mcursor\u001b[0m\u001b[1;33m(\u001b[0m\u001b[1;33m)\u001b[0m\u001b[1;33m\u001b[0m\u001b[0m\n\u001b[0;32m      3\u001b[0m \u001b[1;33m\u001b[0m\u001b[0m\n\u001b[1;32m----> 4\u001b[1;33m \u001b[0mc\u001b[0m\u001b[1;33m.\u001b[0m\u001b[0mexecute\u001b[0m\u001b[1;33m(\u001b[0m\u001b[1;34m'CREATE TABLE Store ?'\u001b[0m\u001b[1;33m,\u001b[0m\u001b[0mdb_col_names\u001b[0m\u001b[1;33m)\u001b[0m\u001b[1;33m\u001b[0m\u001b[0m\n\u001b[0m\u001b[0;32m      5\u001b[0m \u001b[1;33m\u001b[0m\u001b[0m\n\u001b[0;32m      6\u001b[0m \u001b[1;33m\u001b[0m\u001b[0m\n",
      "\u001b[1;31mOperationalError\u001b[0m: near \"?\": syntax error"
     ]
    }
   ],
   "source": [
    "conn = sqlite3.connect('test.db')\n",
    "c = conn.cursor()\n",
    "\n",
    "c.execute('CREATE TABLE Store ?',db_col_names)\n",
    "\n",
    "\n",
    "conn.commit()"
   ]
  },
  {
   "cell_type": "code",
   "execution_count": null,
   "metadata": {
    "collapsed": true
   },
   "outputs": [],
   "source": []
  }
 ],
 "metadata": {
  "kernelspec": {
   "display_name": "Python 3",
   "language": "python",
   "name": "python3"
  },
  "language_info": {
   "codemirror_mode": {
    "name": "ipython",
    "version": 3
   },
   "file_extension": ".py",
   "mimetype": "text/x-python",
   "name": "python",
   "nbconvert_exporter": "python",
   "pygments_lexer": "ipython3",
   "version": "3.5.2"
  }
 },
 "nbformat": 4,
 "nbformat_minor": 0
}
