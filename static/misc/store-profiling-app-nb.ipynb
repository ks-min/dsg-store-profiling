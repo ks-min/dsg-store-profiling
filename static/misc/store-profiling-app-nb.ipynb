{
 "cells": [
  {
   "cell_type": "code",
   "execution_count": 1,
   "metadata": {
    "collapsed": true
   },
   "outputs": [],
   "source": [
    "import os\n",
    "\n",
    "import numpy as np\n",
    "import pandas as pd\n",
    "import sqlite3"
   ]
  },
  {
   "cell_type": "code",
   "execution_count": 2,
   "metadata": {
    "collapsed": false
   },
   "outputs": [],
   "source": [
    "with open('./static/db_col_names.txt', 'r') as f:\n",
    "    db_col_names = f.read()\n",
    "\n",
    "df = pd.read_excel('store_attributes.xlsx')\n",
    "col_names = df.columns.values\n",
    "col_names = [col_name for col_name in col_names if 'Unnamed' not in col_name]\n",
    "df = df[col_names].drop('SosLogin', axis=1)\n",
    "col_names = df.columns.values\n",
    "field_vals = df"
   ]
  },
  {
   "cell_type": "code",
   "execution_count": 3,
   "metadata": {
    "collapsed": false,
    "scrolled": true
   },
   "outputs": [],
   "source": [
    "conn = sqlite3.connect('test.db')\n",
    "c = conn.cursor()\n",
    "#.execute('CREATE TABLE Store {}'.format(db_col_names))\n",
    "#conn.commit()"
   ]
  },
  {
   "cell_type": "code",
   "execution_count": null,
   "metadata": {
    "collapsed": true
   },
   "outputs": [],
   "source": []
  },
  {
   "cell_type": "code",
   "execution_count": null,
   "metadata": {
    "collapsed": true
   },
   "outputs": [],
   "source": []
  },
  {
   "cell_type": "code",
   "execution_count": null,
   "metadata": {
    "collapsed": true
   },
   "outputs": [],
   "source": []
  },
  {
   "cell_type": "code",
   "execution_count": null,
   "metadata": {
    "collapsed": true
   },
   "outputs": [],
   "source": []
  },
  {
   "cell_type": "code",
   "execution_count": null,
   "metadata": {
    "collapsed": true
   },
   "outputs": [],
   "source": []
  },
  {
   "cell_type": "code",
   "execution_count": null,
   "metadata": {
    "collapsed": true
   },
   "outputs": [],
   "source": []
  },
  {
   "cell_type": "code",
   "execution_count": null,
   "metadata": {
    "collapsed": true
   },
   "outputs": [],
   "source": []
  },
  {
   "cell_type": "code",
   "execution_count": null,
   "metadata": {
    "collapsed": true
   },
   "outputs": [],
   "source": []
  },
  {
   "cell_type": "code",
   "execution_count": null,
   "metadata": {
    "collapsed": true
   },
   "outputs": [],
   "source": []
  },
  {
   "cell_type": "code",
   "execution_count": null,
   "metadata": {
    "collapsed": true
   },
   "outputs": [],
   "source": []
  },
  {
   "cell_type": "code",
   "execution_count": null,
   "metadata": {
    "collapsed": true
   },
   "outputs": [],
   "source": []
  },
  {
   "cell_type": "code",
   "execution_count": null,
   "metadata": {
    "collapsed": true
   },
   "outputs": [],
   "source": []
  },
  {
   "cell_type": "code",
   "execution_count": null,
   "metadata": {
    "collapsed": true
   },
   "outputs": [],
   "source": []
  },
  {
   "cell_type": "code",
   "execution_count": null,
   "metadata": {
    "collapsed": true
   },
   "outputs": [],
   "source": []
  },
  {
   "cell_type": "code",
   "execution_count": null,
   "metadata": {
    "collapsed": true
   },
   "outputs": [],
   "source": []
  },
  {
   "cell_type": "code",
   "execution_count": null,
   "metadata": {
    "collapsed": true
   },
   "outputs": [],
   "source": []
  },
  {
   "cell_type": "code",
   "execution_count": null,
   "metadata": {
    "collapsed": true
   },
   "outputs": [],
   "source": []
  },
  {
   "cell_type": "code",
   "execution_count": null,
   "metadata": {
    "collapsed": true
   },
   "outputs": [],
   "source": []
  },
  {
   "cell_type": "code",
   "execution_count": null,
   "metadata": {
    "collapsed": true
   },
   "outputs": [],
   "source": []
  },
  {
   "cell_type": "code",
   "execution_count": null,
   "metadata": {
    "collapsed": true
   },
   "outputs": [],
   "source": []
  },
  {
   "cell_type": "code",
   "execution_count": null,
   "metadata": {
    "collapsed": true
   },
   "outputs": [],
   "source": []
  },
  {
   "cell_type": "code",
   "execution_count": null,
   "metadata": {
    "collapsed": true
   },
   "outputs": [],
   "source": []
  },
  {
   "cell_type": "code",
   "execution_count": null,
   "metadata": {
    "collapsed": true
   },
   "outputs": [],
   "source": []
  },
  {
   "cell_type": "code",
   "execution_count": null,
   "metadata": {
    "collapsed": true
   },
   "outputs": [],
   "source": []
  },
  {
   "cell_type": "code",
   "execution_count": null,
   "metadata": {
    "collapsed": true
   },
   "outputs": [],
   "source": []
  },
  {
   "cell_type": "code",
   "execution_count": null,
   "metadata": {
    "collapsed": true
   },
   "outputs": [],
   "source": []
  },
  {
   "cell_type": "code",
   "execution_count": null,
   "metadata": {
    "collapsed": true
   },
   "outputs": [],
   "source": []
  },
  {
   "cell_type": "code",
   "execution_count": null,
   "metadata": {
    "collapsed": true
   },
   "outputs": [],
   "source": []
  },
  {
   "cell_type": "code",
   "execution_count": null,
   "metadata": {
    "collapsed": true
   },
   "outputs": [],
   "source": []
  },
  {
   "cell_type": "code",
   "execution_count": null,
   "metadata": {
    "collapsed": true
   },
   "outputs": [],
   "source": []
  },
  {
   "cell_type": "code",
   "execution_count": null,
   "metadata": {
    "collapsed": true
   },
   "outputs": [],
   "source": []
  },
  {
   "cell_type": "code",
   "execution_count": null,
   "metadata": {
    "collapsed": true
   },
   "outputs": [],
   "source": []
  },
  {
   "cell_type": "code",
   "execution_count": null,
   "metadata": {
    "collapsed": true
   },
   "outputs": [],
   "source": []
  },
  {
   "cell_type": "code",
   "execution_count": null,
   "metadata": {
    "collapsed": true
   },
   "outputs": [],
   "source": []
  },
  {
   "cell_type": "code",
   "execution_count": null,
   "metadata": {
    "collapsed": true
   },
   "outputs": [],
   "source": []
  },
  {
   "cell_type": "code",
   "execution_count": null,
   "metadata": {
    "collapsed": true
   },
   "outputs": [],
   "source": []
  },
  {
   "cell_type": "code",
   "execution_count": null,
   "metadata": {
    "collapsed": true
   },
   "outputs": [],
   "source": []
  },
  {
   "cell_type": "code",
   "execution_count": null,
   "metadata": {
    "collapsed": true
   },
   "outputs": [],
   "source": []
  },
  {
   "cell_type": "code",
   "execution_count": null,
   "metadata": {
    "collapsed": true
   },
   "outputs": [],
   "source": []
  },
  {
   "cell_type": "code",
   "execution_count": null,
   "metadata": {
    "collapsed": true
   },
   "outputs": [],
   "source": []
  },
  {
   "cell_type": "code",
   "execution_count": null,
   "metadata": {
    "collapsed": true
   },
   "outputs": [],
   "source": []
  },
  {
   "cell_type": "code",
   "execution_count": null,
   "metadata": {
    "collapsed": true
   },
   "outputs": [],
   "source": []
  },
  {
   "cell_type": "code",
   "execution_count": null,
   "metadata": {
    "collapsed": true
   },
   "outputs": [],
   "source": []
  },
  {
   "cell_type": "code",
   "execution_count": null,
   "metadata": {
    "collapsed": true
   },
   "outputs": [],
   "source": []
  },
  {
   "cell_type": "code",
   "execution_count": null,
   "metadata": {
    "collapsed": true
   },
   "outputs": [],
   "source": []
  },
  {
   "cell_type": "code",
   "execution_count": null,
   "metadata": {
    "collapsed": true
   },
   "outputs": [],
   "source": []
  },
  {
   "cell_type": "code",
   "execution_count": null,
   "metadata": {
    "collapsed": true
   },
   "outputs": [],
   "source": []
  },
  {
   "cell_type": "code",
   "execution_count": null,
   "metadata": {
    "collapsed": true
   },
   "outputs": [],
   "source": []
  },
  {
   "cell_type": "code",
   "execution_count": null,
   "metadata": {
    "collapsed": true
   },
   "outputs": [],
   "source": []
  },
  {
   "cell_type": "code",
   "execution_count": null,
   "metadata": {
    "collapsed": true
   },
   "outputs": [],
   "source": []
  },
  {
   "cell_type": "code",
   "execution_count": null,
   "metadata": {
    "collapsed": true
   },
   "outputs": [],
   "source": []
  },
  {
   "cell_type": "code",
   "execution_count": null,
   "metadata": {
    "collapsed": true
   },
   "outputs": [],
   "source": []
  },
  {
   "cell_type": "code",
   "execution_count": null,
   "metadata": {
    "collapsed": true
   },
   "outputs": [],
   "source": []
  },
  {
   "cell_type": "code",
   "execution_count": null,
   "metadata": {
    "collapsed": true
   },
   "outputs": [],
   "source": []
  },
  {
   "cell_type": "code",
   "execution_count": null,
   "metadata": {
    "collapsed": true
   },
   "outputs": [],
   "source": []
  },
  {
   "cell_type": "code",
   "execution_count": null,
   "metadata": {
    "collapsed": true
   },
   "outputs": [],
   "source": []
  },
  {
   "cell_type": "code",
   "execution_count": null,
   "metadata": {
    "collapsed": true
   },
   "outputs": [],
   "source": []
  },
  {
   "cell_type": "code",
   "execution_count": null,
   "metadata": {
    "collapsed": true
   },
   "outputs": [],
   "source": []
  },
  {
   "cell_type": "code",
   "execution_count": null,
   "metadata": {
    "collapsed": true
   },
   "outputs": [],
   "source": []
  },
  {
   "cell_type": "code",
   "execution_count": null,
   "metadata": {
    "collapsed": true
   },
   "outputs": [],
   "source": []
  },
  {
   "cell_type": "code",
   "execution_count": null,
   "metadata": {
    "collapsed": true
   },
   "outputs": [],
   "source": []
  },
  {
   "cell_type": "code",
   "execution_count": null,
   "metadata": {
    "collapsed": true
   },
   "outputs": [],
   "source": []
  },
  {
   "cell_type": "code",
   "execution_count": null,
   "metadata": {
    "collapsed": true
   },
   "outputs": [],
   "source": []
  },
  {
   "cell_type": "code",
   "execution_count": null,
   "metadata": {
    "collapsed": true
   },
   "outputs": [],
   "source": []
  },
  {
   "cell_type": "code",
   "execution_count": null,
   "metadata": {
    "collapsed": true
   },
   "outputs": [],
   "source": []
  },
  {
   "cell_type": "code",
   "execution_count": null,
   "metadata": {
    "collapsed": true
   },
   "outputs": [],
   "source": []
  },
  {
   "cell_type": "code",
   "execution_count": null,
   "metadata": {
    "collapsed": true
   },
   "outputs": [],
   "source": []
  },
  {
   "cell_type": "code",
   "execution_count": null,
   "metadata": {
    "collapsed": true
   },
   "outputs": [],
   "source": []
  },
  {
   "cell_type": "code",
   "execution_count": null,
   "metadata": {
    "collapsed": true
   },
   "outputs": [],
   "source": []
  },
  {
   "cell_type": "code",
   "execution_count": null,
   "metadata": {
    "collapsed": true
   },
   "outputs": [],
   "source": []
  },
  {
   "cell_type": "code",
   "execution_count": null,
   "metadata": {
    "collapsed": true
   },
   "outputs": [],
   "source": []
  },
  {
   "cell_type": "code",
   "execution_count": null,
   "metadata": {
    "collapsed": true
   },
   "outputs": [],
   "source": []
  },
  {
   "cell_type": "code",
   "execution_count": null,
   "metadata": {
    "collapsed": true
   },
   "outputs": [],
   "source": []
  },
  {
   "cell_type": "code",
   "execution_count": null,
   "metadata": {
    "collapsed": true
   },
   "outputs": [],
   "source": []
  },
  {
   "cell_type": "code",
   "execution_count": null,
   "metadata": {
    "collapsed": true
   },
   "outputs": [],
   "source": []
  },
  {
   "cell_type": "code",
   "execution_count": null,
   "metadata": {
    "collapsed": true
   },
   "outputs": [],
   "source": []
  },
  {
   "cell_type": "code",
   "execution_count": null,
   "metadata": {
    "collapsed": true
   },
   "outputs": [],
   "source": []
  },
  {
   "cell_type": "code",
   "execution_count": null,
   "metadata": {
    "collapsed": true
   },
   "outputs": [],
   "source": []
  },
  {
   "cell_type": "code",
   "execution_count": null,
   "metadata": {
    "collapsed": true
   },
   "outputs": [],
   "source": []
  },
  {
   "cell_type": "code",
   "execution_count": null,
   "metadata": {
    "collapsed": true
   },
   "outputs": [],
   "source": []
  },
  {
   "cell_type": "code",
   "execution_count": null,
   "metadata": {
    "collapsed": true
   },
   "outputs": [],
   "source": []
  },
  {
   "cell_type": "code",
   "execution_count": null,
   "metadata": {
    "collapsed": true
   },
   "outputs": [],
   "source": []
  },
  {
   "cell_type": "code",
   "execution_count": null,
   "metadata": {
    "collapsed": true
   },
   "outputs": [],
   "source": []
  },
  {
   "cell_type": "code",
   "execution_count": null,
   "metadata": {
    "collapsed": true
   },
   "outputs": [],
   "source": []
  },
  {
   "cell_type": "code",
   "execution_count": null,
   "metadata": {
    "collapsed": true
   },
   "outputs": [],
   "source": []
  },
  {
   "cell_type": "code",
   "execution_count": null,
   "metadata": {
    "collapsed": true
   },
   "outputs": [],
   "source": []
  },
  {
   "cell_type": "code",
   "execution_count": null,
   "metadata": {
    "collapsed": true
   },
   "outputs": [],
   "source": []
  },
  {
   "cell_type": "code",
   "execution_count": null,
   "metadata": {
    "collapsed": true
   },
   "outputs": [],
   "source": []
  },
  {
   "cell_type": "code",
   "execution_count": null,
   "metadata": {
    "collapsed": true
   },
   "outputs": [],
   "source": []
  },
  {
   "cell_type": "code",
   "execution_count": null,
   "metadata": {
    "collapsed": true
   },
   "outputs": [],
   "source": []
  },
  {
   "cell_type": "code",
   "execution_count": null,
   "metadata": {
    "collapsed": true
   },
   "outputs": [],
   "source": []
  },
  {
   "cell_type": "code",
   "execution_count": null,
   "metadata": {
    "collapsed": true
   },
   "outputs": [],
   "source": []
  },
  {
   "cell_type": "code",
   "execution_count": null,
   "metadata": {
    "collapsed": true
   },
   "outputs": [],
   "source": []
  },
  {
   "cell_type": "code",
   "execution_count": null,
   "metadata": {
    "collapsed": true
   },
   "outputs": [],
   "source": []
  },
  {
   "cell_type": "code",
   "execution_count": null,
   "metadata": {
    "collapsed": true
   },
   "outputs": [],
   "source": []
  },
  {
   "cell_type": "code",
   "execution_count": null,
   "metadata": {
    "collapsed": true
   },
   "outputs": [],
   "source": []
  },
  {
   "cell_type": "code",
   "execution_count": null,
   "metadata": {
    "collapsed": true
   },
   "outputs": [],
   "source": []
  },
  {
   "cell_type": "code",
   "execution_count": null,
   "metadata": {
    "collapsed": true
   },
   "outputs": [],
   "source": []
  },
  {
   "cell_type": "code",
   "execution_count": null,
   "metadata": {
    "collapsed": true
   },
   "outputs": [],
   "source": []
  },
  {
   "cell_type": "code",
   "execution_count": null,
   "metadata": {
    "collapsed": true
   },
   "outputs": [],
   "source": []
  },
  {
   "cell_type": "code",
   "execution_count": null,
   "metadata": {
    "collapsed": true
   },
   "outputs": [],
   "source": []
  },
  {
   "cell_type": "code",
   "execution_count": null,
   "metadata": {
    "collapsed": true
   },
   "outputs": [],
   "source": []
  },
  {
   "cell_type": "code",
   "execution_count": null,
   "metadata": {
    "collapsed": true
   },
   "outputs": [],
   "source": []
  },
  {
   "cell_type": "code",
   "execution_count": null,
   "metadata": {
    "collapsed": true
   },
   "outputs": [],
   "source": []
  },
  {
   "cell_type": "code",
   "execution_count": null,
   "metadata": {
    "collapsed": true
   },
   "outputs": [],
   "source": []
  },
  {
   "cell_type": "code",
   "execution_count": null,
   "metadata": {
    "collapsed": true
   },
   "outputs": [],
   "source": []
  },
  {
   "cell_type": "code",
   "execution_count": null,
   "metadata": {
    "collapsed": true
   },
   "outputs": [],
   "source": []
  },
  {
   "cell_type": "code",
   "execution_count": null,
   "metadata": {
    "collapsed": true
   },
   "outputs": [],
   "source": []
  },
  {
   "cell_type": "code",
   "execution_count": null,
   "metadata": {
    "collapsed": true
   },
   "outputs": [],
   "source": []
  },
  {
   "cell_type": "code",
   "execution_count": null,
   "metadata": {
    "collapsed": true
   },
   "outputs": [],
   "source": []
  },
  {
   "cell_type": "code",
   "execution_count": null,
   "metadata": {
    "collapsed": true
   },
   "outputs": [],
   "source": []
  },
  {
   "cell_type": "code",
   "execution_count": null,
   "metadata": {
    "collapsed": true
   },
   "outputs": [],
   "source": []
  },
  {
   "cell_type": "code",
   "execution_count": null,
   "metadata": {
    "collapsed": true
   },
   "outputs": [],
   "source": []
  },
  {
   "cell_type": "code",
   "execution_count": null,
   "metadata": {
    "collapsed": true
   },
   "outputs": [],
   "source": []
  },
  {
   "cell_type": "code",
   "execution_count": null,
   "metadata": {
    "collapsed": true
   },
   "outputs": [],
   "source": []
  },
  {
   "cell_type": "code",
   "execution_count": null,
   "metadata": {
    "collapsed": true
   },
   "outputs": [],
   "source": []
  },
  {
   "cell_type": "code",
   "execution_count": null,
   "metadata": {
    "collapsed": true
   },
   "outputs": [],
   "source": []
  },
  {
   "cell_type": "code",
   "execution_count": null,
   "metadata": {
    "collapsed": true
   },
   "outputs": [],
   "source": []
  },
  {
   "cell_type": "code",
   "execution_count": null,
   "metadata": {
    "collapsed": true
   },
   "outputs": [],
   "source": []
  },
  {
   "cell_type": "code",
   "execution_count": null,
   "metadata": {
    "collapsed": true
   },
   "outputs": [],
   "source": []
  },
  {
   "cell_type": "code",
   "execution_count": null,
   "metadata": {
    "collapsed": true
   },
   "outputs": [],
   "source": []
  },
  {
   "cell_type": "code",
   "execution_count": null,
   "metadata": {
    "collapsed": true
   },
   "outputs": [],
   "source": []
  },
  {
   "cell_type": "code",
   "execution_count": null,
   "metadata": {
    "collapsed": true
   },
   "outputs": [],
   "source": []
  },
  {
   "cell_type": "code",
   "execution_count": null,
   "metadata": {
    "collapsed": true
   },
   "outputs": [],
   "source": []
  },
  {
   "cell_type": "code",
   "execution_count": null,
   "metadata": {
    "collapsed": true
   },
   "outputs": [],
   "source": []
  },
  {
   "cell_type": "code",
   "execution_count": null,
   "metadata": {
    "collapsed": true
   },
   "outputs": [],
   "source": []
  },
  {
   "cell_type": "code",
   "execution_count": null,
   "metadata": {
    "collapsed": true
   },
   "outputs": [],
   "source": []
  },
  {
   "cell_type": "code",
   "execution_count": null,
   "metadata": {
    "collapsed": true
   },
   "outputs": [],
   "source": []
  },
  {
   "cell_type": "code",
   "execution_count": null,
   "metadata": {
    "collapsed": true
   },
   "outputs": [],
   "source": []
  },
  {
   "cell_type": "code",
   "execution_count": null,
   "metadata": {
    "collapsed": true
   },
   "outputs": [],
   "source": []
  },
  {
   "cell_type": "code",
   "execution_count": null,
   "metadata": {
    "collapsed": true
   },
   "outputs": [],
   "source": []
  },
  {
   "cell_type": "code",
   "execution_count": null,
   "metadata": {
    "collapsed": true
   },
   "outputs": [],
   "source": []
  },
  {
   "cell_type": "code",
   "execution_count": null,
   "metadata": {
    "collapsed": true
   },
   "outputs": [],
   "source": []
  },
  {
   "cell_type": "code",
   "execution_count": null,
   "metadata": {
    "collapsed": true
   },
   "outputs": [],
   "source": []
  },
  {
   "cell_type": "code",
   "execution_count": null,
   "metadata": {
    "collapsed": true
   },
   "outputs": [],
   "source": []
  },
  {
   "cell_type": "code",
   "execution_count": null,
   "metadata": {
    "collapsed": true
   },
   "outputs": [],
   "source": []
  },
  {
   "cell_type": "code",
   "execution_count": null,
   "metadata": {
    "collapsed": true
   },
   "outputs": [],
   "source": []
  },
  {
   "cell_type": "code",
   "execution_count": null,
   "metadata": {
    "collapsed": true
   },
   "outputs": [],
   "source": []
  },
  {
   "cell_type": "code",
   "execution_count": null,
   "metadata": {
    "collapsed": true
   },
   "outputs": [],
   "source": []
  },
  {
   "cell_type": "code",
   "execution_count": null,
   "metadata": {
    "collapsed": true
   },
   "outputs": [],
   "source": []
  },
  {
   "cell_type": "code",
   "execution_count": null,
   "metadata": {
    "collapsed": true
   },
   "outputs": [],
   "source": []
  },
  {
   "cell_type": "code",
   "execution_count": null,
   "metadata": {
    "collapsed": true
   },
   "outputs": [],
   "source": []
  },
  {
   "cell_type": "code",
   "execution_count": null,
   "metadata": {
    "collapsed": true
   },
   "outputs": [],
   "source": []
  },
  {
   "cell_type": "code",
   "execution_count": null,
   "metadata": {
    "collapsed": true
   },
   "outputs": [],
   "source": []
  },
  {
   "cell_type": "code",
   "execution_count": null,
   "metadata": {
    "collapsed": true
   },
   "outputs": [],
   "source": []
  },
  {
   "cell_type": "code",
   "execution_count": null,
   "metadata": {
    "collapsed": true
   },
   "outputs": [],
   "source": []
  },
  {
   "cell_type": "code",
   "execution_count": null,
   "metadata": {
    "collapsed": true
   },
   "outputs": [],
   "source": []
  },
  {
   "cell_type": "code",
   "execution_count": null,
   "metadata": {
    "collapsed": true
   },
   "outputs": [],
   "source": []
  },
  {
   "cell_type": "code",
   "execution_count": null,
   "metadata": {
    "collapsed": true
   },
   "outputs": [],
   "source": []
  },
  {
   "cell_type": "code",
   "execution_count": null,
   "metadata": {
    "collapsed": true
   },
   "outputs": [],
   "source": []
  },
  {
   "cell_type": "code",
   "execution_count": null,
   "metadata": {
    "collapsed": true
   },
   "outputs": [],
   "source": []
  },
  {
   "cell_type": "code",
   "execution_count": null,
   "metadata": {
    "collapsed": true
   },
   "outputs": [],
   "source": []
  },
  {
   "cell_type": "code",
   "execution_count": null,
   "metadata": {
    "collapsed": true
   },
   "outputs": [],
   "source": []
  },
  {
   "cell_type": "code",
   "execution_count": null,
   "metadata": {
    "collapsed": true
   },
   "outputs": [],
   "source": []
  },
  {
   "cell_type": "code",
   "execution_count": null,
   "metadata": {
    "collapsed": true
   },
   "outputs": [],
   "source": []
  },
  {
   "cell_type": "code",
   "execution_count": null,
   "metadata": {
    "collapsed": true
   },
   "outputs": [],
   "source": []
  },
  {
   "cell_type": "code",
   "execution_count": null,
   "metadata": {
    "collapsed": true
   },
   "outputs": [],
   "source": []
  },
  {
   "cell_type": "code",
   "execution_count": null,
   "metadata": {
    "collapsed": true
   },
   "outputs": [],
   "source": []
  },
  {
   "cell_type": "code",
   "execution_count": null,
   "metadata": {
    "collapsed": true
   },
   "outputs": [],
   "source": []
  },
  {
   "cell_type": "code",
   "execution_count": null,
   "metadata": {
    "collapsed": true
   },
   "outputs": [],
   "source": []
  },
  {
   "cell_type": "code",
   "execution_count": null,
   "metadata": {
    "collapsed": true
   },
   "outputs": [],
   "source": []
  },
  {
   "cell_type": "code",
   "execution_count": null,
   "metadata": {
    "collapsed": true
   },
   "outputs": [],
   "source": []
  },
  {
   "cell_type": "code",
   "execution_count": null,
   "metadata": {
    "collapsed": true
   },
   "outputs": [],
   "source": []
  },
  {
   "cell_type": "code",
   "execution_count": null,
   "metadata": {
    "collapsed": true
   },
   "outputs": [],
   "source": []
  },
  {
   "cell_type": "code",
   "execution_count": null,
   "metadata": {
    "collapsed": true
   },
   "outputs": [],
   "source": []
  },
  {
   "cell_type": "code",
   "execution_count": null,
   "metadata": {
    "collapsed": true
   },
   "outputs": [],
   "source": []
  },
  {
   "cell_type": "code",
   "execution_count": null,
   "metadata": {
    "collapsed": true
   },
   "outputs": [],
   "source": []
  },
  {
   "cell_type": "code",
   "execution_count": null,
   "metadata": {
    "collapsed": true
   },
   "outputs": [],
   "source": []
  },
  {
   "cell_type": "code",
   "execution_count": null,
   "metadata": {
    "collapsed": true
   },
   "outputs": [],
   "source": []
  },
  {
   "cell_type": "code",
   "execution_count": null,
   "metadata": {
    "collapsed": true
   },
   "outputs": [],
   "source": []
  },
  {
   "cell_type": "code",
   "execution_count": null,
   "metadata": {
    "collapsed": true
   },
   "outputs": [],
   "source": []
  },
  {
   "cell_type": "code",
   "execution_count": null,
   "metadata": {
    "collapsed": true
   },
   "outputs": [],
   "source": []
  },
  {
   "cell_type": "code",
   "execution_count": null,
   "metadata": {
    "collapsed": true
   },
   "outputs": [],
   "source": []
  },
  {
   "cell_type": "code",
   "execution_count": null,
   "metadata": {
    "collapsed": true
   },
   "outputs": [],
   "source": []
  },
  {
   "cell_type": "code",
   "execution_count": null,
   "metadata": {
    "collapsed": true
   },
   "outputs": [],
   "source": []
  },
  {
   "cell_type": "code",
   "execution_count": null,
   "metadata": {
    "collapsed": true
   },
   "outputs": [],
   "source": []
  },
  {
   "cell_type": "code",
   "execution_count": null,
   "metadata": {
    "collapsed": true
   },
   "outputs": [],
   "source": []
  },
  {
   "cell_type": "code",
   "execution_count": null,
   "metadata": {
    "collapsed": true
   },
   "outputs": [],
   "source": []
  },
  {
   "cell_type": "code",
   "execution_count": null,
   "metadata": {
    "collapsed": true
   },
   "outputs": [],
   "source": []
  },
  {
   "cell_type": "code",
   "execution_count": null,
   "metadata": {
    "collapsed": true
   },
   "outputs": [],
   "source": []
  },
  {
   "cell_type": "code",
   "execution_count": null,
   "metadata": {
    "collapsed": true
   },
   "outputs": [],
   "source": []
  },
  {
   "cell_type": "code",
   "execution_count": null,
   "metadata": {
    "collapsed": true
   },
   "outputs": [],
   "source": []
  },
  {
   "cell_type": "code",
   "execution_count": null,
   "metadata": {
    "collapsed": true
   },
   "outputs": [],
   "source": []
  },
  {
   "cell_type": "code",
   "execution_count": null,
   "metadata": {
    "collapsed": true
   },
   "outputs": [],
   "source": []
  },
  {
   "cell_type": "code",
   "execution_count": null,
   "metadata": {
    "collapsed": true
   },
   "outputs": [],
   "source": []
  },
  {
   "cell_type": "code",
   "execution_count": null,
   "metadata": {
    "collapsed": true
   },
   "outputs": [],
   "source": []
  },
  {
   "cell_type": "code",
   "execution_count": null,
   "metadata": {
    "collapsed": true
   },
   "outputs": [],
   "source": []
  },
  {
   "cell_type": "code",
   "execution_count": null,
   "metadata": {
    "collapsed": true
   },
   "outputs": [],
   "source": []
  },
  {
   "cell_type": "code",
   "execution_count": null,
   "metadata": {
    "collapsed": true
   },
   "outputs": [],
   "source": []
  },
  {
   "cell_type": "code",
   "execution_count": null,
   "metadata": {
    "collapsed": true
   },
   "outputs": [],
   "source": []
  },
  {
   "cell_type": "code",
   "execution_count": null,
   "metadata": {
    "collapsed": true
   },
   "outputs": [],
   "source": []
  },
  {
   "cell_type": "code",
   "execution_count": null,
   "metadata": {
    "collapsed": true
   },
   "outputs": [],
   "source": []
  },
  {
   "cell_type": "code",
   "execution_count": null,
   "metadata": {
    "collapsed": true
   },
   "outputs": [],
   "source": []
  },
  {
   "cell_type": "code",
   "execution_count": null,
   "metadata": {
    "collapsed": true
   },
   "outputs": [],
   "source": []
  },
  {
   "cell_type": "code",
   "execution_count": null,
   "metadata": {
    "collapsed": true
   },
   "outputs": [],
   "source": []
  },
  {
   "cell_type": "code",
   "execution_count": null,
   "metadata": {
    "collapsed": true
   },
   "outputs": [],
   "source": []
  },
  {
   "cell_type": "code",
   "execution_count": null,
   "metadata": {
    "collapsed": true
   },
   "outputs": [],
   "source": []
  },
  {
   "cell_type": "code",
   "execution_count": null,
   "metadata": {
    "collapsed": true
   },
   "outputs": [],
   "source": []
  },
  {
   "cell_type": "code",
   "execution_count": null,
   "metadata": {
    "collapsed": true
   },
   "outputs": [],
   "source": []
  },
  {
   "cell_type": "code",
   "execution_count": null,
   "metadata": {
    "collapsed": true
   },
   "outputs": [],
   "source": []
  },
  {
   "cell_type": "code",
   "execution_count": null,
   "metadata": {
    "collapsed": true
   },
   "outputs": [],
   "source": []
  },
  {
   "cell_type": "code",
   "execution_count": null,
   "metadata": {
    "collapsed": true
   },
   "outputs": [],
   "source": []
  },
  {
   "cell_type": "code",
   "execution_count": null,
   "metadata": {
    "collapsed": true
   },
   "outputs": [],
   "source": []
  },
  {
   "cell_type": "code",
   "execution_count": null,
   "metadata": {
    "collapsed": true
   },
   "outputs": [],
   "source": []
  },
  {
   "cell_type": "code",
   "execution_count": null,
   "metadata": {
    "collapsed": true
   },
   "outputs": [],
   "source": []
  },
  {
   "cell_type": "code",
   "execution_count": null,
   "metadata": {
    "collapsed": true
   },
   "outputs": [],
   "source": []
  },
  {
   "cell_type": "code",
   "execution_count": null,
   "metadata": {
    "collapsed": true
   },
   "outputs": [],
   "source": []
  },
  {
   "cell_type": "code",
   "execution_count": null,
   "metadata": {
    "collapsed": true
   },
   "outputs": [],
   "source": []
  },
  {
   "cell_type": "code",
   "execution_count": null,
   "metadata": {
    "collapsed": true
   },
   "outputs": [],
   "source": []
  },
  {
   "cell_type": "code",
   "execution_count": null,
   "metadata": {
    "collapsed": true
   },
   "outputs": [],
   "source": []
  },
  {
   "cell_type": "code",
   "execution_count": null,
   "metadata": {
    "collapsed": true
   },
   "outputs": [],
   "source": []
  },
  {
   "cell_type": "code",
   "execution_count": null,
   "metadata": {
    "collapsed": true
   },
   "outputs": [],
   "source": []
  },
  {
   "cell_type": "code",
   "execution_count": null,
   "metadata": {
    "collapsed": true
   },
   "outputs": [],
   "source": []
  },
  {
   "cell_type": "code",
   "execution_count": null,
   "metadata": {
    "collapsed": true
   },
   "outputs": [],
   "source": []
  },
  {
   "cell_type": "code",
   "execution_count": null,
   "metadata": {
    "collapsed": true
   },
   "outputs": [],
   "source": []
  },
  {
   "cell_type": "code",
   "execution_count": null,
   "metadata": {
    "collapsed": true
   },
   "outputs": [],
   "source": []
  },
  {
   "cell_type": "code",
   "execution_count": null,
   "metadata": {
    "collapsed": true
   },
   "outputs": [],
   "source": []
  },
  {
   "cell_type": "code",
   "execution_count": null,
   "metadata": {
    "collapsed": true
   },
   "outputs": [],
   "source": []
  },
  {
   "cell_type": "code",
   "execution_count": null,
   "metadata": {
    "collapsed": true
   },
   "outputs": [],
   "source": []
  },
  {
   "cell_type": "code",
   "execution_count": null,
   "metadata": {
    "collapsed": true
   },
   "outputs": [],
   "source": []
  },
  {
   "cell_type": "code",
   "execution_count": null,
   "metadata": {
    "collapsed": true
   },
   "outputs": [],
   "source": []
  },
  {
   "cell_type": "code",
   "execution_count": null,
   "metadata": {
    "collapsed": true
   },
   "outputs": [],
   "source": []
  },
  {
   "cell_type": "code",
   "execution_count": null,
   "metadata": {
    "collapsed": true
   },
   "outputs": [],
   "source": []
  },
  {
   "cell_type": "code",
   "execution_count": null,
   "metadata": {
    "collapsed": true
   },
   "outputs": [],
   "source": []
  },
  {
   "cell_type": "code",
   "execution_count": null,
   "metadata": {
    "collapsed": true
   },
   "outputs": [],
   "source": []
  },
  {
   "cell_type": "code",
   "execution_count": null,
   "metadata": {
    "collapsed": true
   },
   "outputs": [],
   "source": []
  },
  {
   "cell_type": "code",
   "execution_count": null,
   "metadata": {
    "collapsed": true
   },
   "outputs": [],
   "source": []
  },
  {
   "cell_type": "code",
   "execution_count": null,
   "metadata": {
    "collapsed": true
   },
   "outputs": [],
   "source": []
  },
  {
   "cell_type": "code",
   "execution_count": null,
   "metadata": {
    "collapsed": true
   },
   "outputs": [],
   "source": []
  },
  {
   "cell_type": "code",
   "execution_count": null,
   "metadata": {
    "collapsed": true
   },
   "outputs": [],
   "source": []
  },
  {
   "cell_type": "code",
   "execution_count": null,
   "metadata": {
    "collapsed": true
   },
   "outputs": [],
   "source": []
  },
  {
   "cell_type": "code",
   "execution_count": null,
   "metadata": {
    "collapsed": true
   },
   "outputs": [],
   "source": []
  },
  {
   "cell_type": "code",
   "execution_count": null,
   "metadata": {
    "collapsed": true
   },
   "outputs": [],
   "source": []
  },
  {
   "cell_type": "code",
   "execution_count": null,
   "metadata": {
    "collapsed": true
   },
   "outputs": [],
   "source": []
  },
  {
   "cell_type": "code",
   "execution_count": null,
   "metadata": {
    "collapsed": true
   },
   "outputs": [],
   "source": []
  },
  {
   "cell_type": "code",
   "execution_count": 4,
   "metadata": {
    "collapsed": false
   },
   "outputs": [
    {
     "ename": "IndentationError",
     "evalue": "unexpected indent (<ipython-input-4-64b4858d5925>, line 2)",
     "output_type": "error",
     "traceback": [
      "\u001b[1;36m  File \u001b[1;32m\"<ipython-input-4-64b4858d5925>\"\u001b[1;36m, line \u001b[1;32m2\u001b[0m\n\u001b[1;33m    Insert Cell Above\u001b[0m\n\u001b[1;37m    ^\u001b[0m\n\u001b[1;31mIndentationError\u001b[0m\u001b[1;31m:\u001b[0m unexpected indent\n"
     ]
    }
   ],
   "source": [
    "\n",
    "                                                                                                                                                                                                                                                                                                                                                                                                                                                                                                                                                                                                                    Insert Cell Above\n",
    "                                                                                                                                                                                                                                                                                                                                                                                                                                                                                                                                                                                                                    Insert Cell Below\n",
    "                                                                                                                                                                                                                                                                                                                                                                                                                                                                                                                                                                                                                    Cell\n",
    "                                                                                                                                                                                                                                                                                                                                                                                                                                                                                                                                                                                                                    Kernel\n",
    "                                                                                                                                                                                                                                                                                                                                                                                                                                                                                                                                                                                                                    Help\n",
    "                                                                                                                                                                                                                                                                                                                                                                                                                                                                                                                                                                                                                    In [1]:\n",
    "\n",
    "                                                                                                                                                                                                                                                                                                                                                                                                                                                                                                                                                                                                                    import os\n",
    "                                                                                                                                                                                                                                                                                                                                                                                                                                                                                                                                                                                                                    ​\n",
    "                                                                                                                                                                                                                                                                                                                                                                                                                                                                                                                                                                                                                    import numpy as np\n",
    "                                                                                                                                                                                                                                                                                                                                                                                                                                                                                                                                                                                                                    import pandas as pd\n",
    "                                                                                                                                                                                                                                                                                                                                                                                                                                                                                                                                                                                                                    import sqlite3\n",
    "                                                                                                                                                                                                                                                                                                                                                                                                                                                                                                                                                                                                                    In [2]:\n",
    "\n",
    "                                                                                                                                                                                                                                                                                                                                                                                                                                                                                                                                                                                                                    with open('./static/db_col_names.txt', 'r') as f:\n",
    "                                                                                                                                                                                                                                                                                                                                                                                                                                                                                                                                                                                                                        db_col_names = f.read()\n",
    "                                                                                                                                                                                                                                                                                                                                                                                                                                                                                                                                                                                                                    ​\n",
    "                                                                                                                                                                                                                                                                                                                                                                                                                                                                                                                                                                                                                    df = pd.read_excel('store_attributes.xlsx')\n",
    "                                                                                                                                                                                                                                                                                                                                                                                                                                                                                                                                                                                                                    col_names = df.columns.values\n",
    "                                                                                                                                                                                                                                                                                                                                                                                                                                                                                                                                                                                                                    col_names = [col_name for col_name in col_names if 'Unnamed' not in col_name]\n",
    "                                                                                                                                                                                                                                                                                                                                                                                                                                                                                                                                                                                                                    df = df[col_names].drop('SosLogin', axis=1)\n",
    "                                                                                                                                                                                                                                                                                                                                                                                                                                                                                                                                                                                                                    col_names = df.columns.values\n",
    "                                                                                                                                                                                                                                                                                                                                                                                                                                                                                                                                                                                                                    field_vals = df\n",
    "                                                                                                                                                                                                                                                                                                                                                                                                                                                                                                                                                                                                                    In [3]:\n",
    "\n",
    "                                                                                                                                                                                                                                                                                                                                                                                                                                                                                                                                                                                                                    conn = sqlite3.connect('test.db')\n",
    "                                                                                                                                                                                                                                                                                                                                                                                                                                                                                                                                                                                                                    c = conn.cursor()\n",
    "                                                                                                                                                                                                                                                                                                                                                                                                                                                                                                                                                                                                                    #.execute('CREATE TABLE Store {}'.format(db_col_names))\n",
    "                                                                                                                                                                                                                                                                                                                                                                                                                                                                                                                                                                                                                    #conn.commit()\n",
    "                                                                                                                                                                                                                                                                                                                                                                                                                                                                                                                                                                                                                    In [ ]:\n",
    "\n",
    "                                                                                                                                                                                                                                                                                                                                                                                                                                                                                                                                                                                                                    ​\n",
    "                                                                                                                                                                                                                                                                                                                                                                                                                                                                                                                                                                                                                    In [ ]:\n",
    "\n",
    "                                                                                                                                                                                                                                                                                                                                                                                                                                                                                                                                                                                                                    ​\n",
    "                                                                                                                                                                                                                                                                                                                                                                                                                                                                                                                                                                                                                    In [ ]:\n",
    "\n",
    "                                                                                                                                                                                                                                                                                                                                                                                                                                                                                                                                                                                                                    ​\n",
    "                                                                                                                                                                                                                                                                                                                                                                                                                                                                                                                                                                                                                    In [ ]:\n",
    "\n",
    "                                                                                                                                                                                                                                                                                                                                                                                                                                                                                                                                                                                                                    ​\n",
    "                                                                                                                                                                                                                                                                                                                                                                                                                                                                                                                                                                                                                    In [ ]:\n",
    "\n",
    "                                                                                                                                                                                                                                                                                                                                                                                                                                                                                                                                                                                                                    ​\n",
    "                                                                                                                                                                                                                                                                                                                                                                                                                                                                                                                                                                                                                    In [ ]:\n",
    "\n",
    "                                                                                                                                                                                                                                                                                                                                                                                                                                                                                                                                                                                                                    ​\n",
    "                                                                                                                                                                                                                                                                                                                                                                                                                                                                                                                                                                                                                    In [ ]:\n",
    "\n",
    "                                                                                                                                                                                                                                                                                                                                                                                                                                                                                                                                                                                                                    ​\n",
    "                                                                                                                                                                                                                                                                                                                                                                                                                                                                                                                                                                                                                    In [ ]:\n",
    "\n",
    "                                                                                                                                                                                                                                                                                                                                                                                                                                                                                                                                                                                                                    ​\n",
    "                                                                                                                                                                                                                                                                                                                                                                                                                                                                                                                                                                                                                    In [ ]:\n",
    "\n",
    "                                                                                                                                                                                                                                                                                                                                                                                                                                                                                                                                                                                                                    ​\n",
    "                                                                                                                                                                                                                                                                                                                                                                                                                                                                                                                                                                                                                    In [ ]:\n",
    "\n",
    "                                                                                                                                                                                                                                                                                                                                                                                                                                                                                                                                                                                                                    ​\n",
    "                                                                                                                                                                                                                                                                                                                                                                                                                                                                                                                                                                                                                    In [ ]:\n",
    "\n",
    "                                                                                                                                                                                                                                                                                                                                                                                                                                                                                                                                                                                                                    ​\n",
    "                                                                                                                                                                                                                                                                                                                                                                                                                                                                                                                                                                                                                    In [ ]:\n",
    "\n",
    "                                                                                                                                                                                                                                                                                                                                                                                                                                                                                                                                                                                                                    ​\n",
    "                                                                                                                                                                                                                                                                                                                                                                                                                                                                                                                                                                                                                    In [ ]:\n",
    "\n",
    "                                                                                                                                                                                                                                                                                                                                                                                                                                                                                                                                                                                                                    ​\n",
    "                                                                                                                                                                                                                                                                                                                                                                                                                                                                                                                                                                                                                    In [ ]:\n",
    "\n",
    "                                                                                                                                                                                                                                                                                                                                                                                                                                                                                                                                                                                                                    ​\n",
    "                                                                                                                                                                                                                                                                                                                                                                                                                                                                                                                                                                                                                    In [ ]:\n",
    "\n",
    "                                                                                                                                                                                                                                                                                                                                                                                                                                                                                                                                                                                                                    ​\n",
    "                                                                                                                                                                                                                                                                                                                                                                                                                                                                                                                                                                                                                    In [ ]:\n",
    "\n",
    "                                                                                                                                                                                                                                                                                                                                                                                                                                                                                                                                                                                                                    ​\n",
    "                                                                                                                                                                                                                                                                                                                                                                                                                                                                                                                                                                                                                    In [ ]:\n",
    "\n",
    "                                                                                                                                                                                                                                                                                                                                                                                                                                                                                                                                                                                                                    ​\n",
    "                                                                                                                                                                                                                                                                                                                                                                                                                                                                                                                                                                                                                    In [ ]:\n",
    "\n",
    "                                                                                                                                                                                                                                                                                                                                                                                                                                                                                                                                                                                                                    ​\n",
    "                                                                                                                                                                                                                                                                                                                                                                                                                                                                                                                                                                                                                    In [ ]:\n",
    "\n",
    "                                                                                                                                                                                                                                                                                                                                                                                                                                                                                                                                                                                                                    ​\n",
    "                                                                                                                                                                                                                                                                                                                                                                                                                                                                                                                                                                                                                    In [ ]:\n",
    "\n",
    "                                                                                                                                                                                                                                                                                                                                                                                                                                                                                                                                                                                                                    ​\n",
    "                                                                                                                                                                                                                                                                                                                                                                                                                                                                                                                                                                                                                    In [ ]:\n",
    "\n",
    "                                                                                                                                                                                                                                                                                                                                                                                                                                                                                                                                                                                                                    ​\n",
    "                                                                                                                                                                                                                                                                                                                                                                                                                                                                                                                                                                                                                    In [ ]:\n",
    "\n",
    "                                                                                                                                                                                                                                                                                                                                                                                                                                                                                                                                                                                                                    ​\n",
    "                                                                                                                                                                                                                                                                                                                                                                                                                                                                                                                                                                                                                    In [ ]:\n",
    "\n",
    "                                                                                                                                                                                                                                                                                                                                                                                                                                                                                                                                                                                                                    ​\n",
    "                                                                                                                                                                                                                                                                                                                                                                                                                                                                                                                                                                                                                    In [ ]:\n",
    "\n",
    "                                                                                                                                                                                                                                                                                                                                                                                                                                                                                                                                                                                                                    ​\n",
    "                                                                                                                                                                                                                                                                                                                                                                                                                                                                                                                                                                                                                    In [ ]:\n",
    "\n",
    "                                                                                                                                                                                                                                                                                                                                                                                                                                                                                                                                                                                                                    ​\n",
    "                                                                                                                                                                                                                                                                                                                                                                                                                                                                                                                                                                                                                    In [ ]:\n",
    "\n",
    "                                                                                                                                                                                                                                                                                                                                                                                                                                                                                                                                                                                                                    ​\n",
    "                                                                                                                                                                                                                                                                                                                                                                                                                                                                                                                                                                                                                    In [ ]:\n",
    "\n",
    "                                                                                                                                                                                                                                                                                                                                                                                                                                                                                                                                                                                                                    ​\n",
    "                                                                                                                                                                                                                                                                                                                                                                                                                                                                                                                                                                                                                    In [ ]:\n",
    "\n",
    "                                                                                                                                                                                                                                                                                                                                                                                                                                                                                                                                                                                                                    ​\n",
    "                                                                                                                                                                                                                                                                                                                                                                                                                                                                                                                                                                                                                    In [ ]:\n",
    "\n",
    "                                                                                                                                                                                                                                                                                                                                                                                                                                                                                                                                                                                                                    ​\n",
    "                                                                                                                                                                                                                                                                                                                                                                                                                                                                                                                                                                                                                    In [ ]:\n",
    "\n",
    "                                                                                                                                                                                                                                                                                                                                                                                                                                                                                                                                                                                                                    ​\n",
    "                                                                                                                                                                                                                                                                                                                                                                                                                                                                                                                                                                                                                    In [ ]:\n",
    "\n",
    "                                                                                                                                                                                                                                                                                                                                                                                                                                                                                                                                                                                                                    ​\n",
    "                                                                                                                                                                                                                                                                                                                                                                                                                                                                                                                                                                                                                    In [ ]:\n",
    "\n",
    "                                                                                                                                                                                                                                                                                                                                                                                                                                                                                                                                                                                                                    ​\n",
    "                                                                                                                                                                                                                                                                                                                                                                                                                                                                                                                                                                                                                    In [ ]:\n",
    "\n",
    "                                                                                                                                                                                                                                                                                                                                                                                                                                                                                                                                                                                                                    ​\n",
    "                                                                                                                                                                                                                                                                                                                                                                                                                                                                                                                                                                                                                    In [ ]:\n",
    "\n",
    "                                                                                                                                                                                                                                                                                                                                                                                                                                                                                                                                                                                                                    ​\n",
    "                                                                                                                                                                                                                                                                                                                                                                                                                                                                                                                                                                                                                    In [ ]:\n",
    "\n",
    "                                                                                                                                                                                                                                                                                                                                                                                                                                                                                                                                                                                                                    ​\n",
    "                                                                                                                                                                                                                                                                                                                                                                                                                                                                                                                                                                                                                    In [ ]:\n",
    "\n",
    "                                                                                                                                                                                                                                                                                                                                                                                                                                                                                                                                                                                                                    ​\n",
    "                                                                                                                                                                                                                                                                                                                                                                                                                                                                                                                                                                                                                    In [ ]:\n",
    "\n",
    "                                                                                                                                                                                                                                                                                                                                                                                                                                                                                                                                                                                                                    ​\n",
    "                                                                                                                                                                                                                                                                                                                                                                                                                                                                                                                                                                                                                    In [ ]:\n",
    "\n",
    "                                                                                                                                                                                                                                                                                                                                                                                                                                                                                                                                                                                                                    ​\n",
    "                                                                                                                                                                                                                                                                                                                                                                                                                                                                                                                                                                                                                    In [ ]:\n",
    "\n",
    "                                                                                                                                                                                                                                                                                                                                                                                                                                                                                                                                                                                                                    ​\n",
    "                                                                                                                                                                                                                                                                                                                                                                                                                                                                                                                                                                                                                    In [ ]:\n",
    "\n",
    "                                                                                                                                                                                                                                                                                                                                                                                                                                                                                                                                                                                                                    ​\n",
    "                                                                                                                                                                                                                                                                                                                                                                                                                                                                                                                                                                                                                    In [ ]:\n",
    "\n",
    "                                                                                                                                                                                                                                                                                                                                                                                                                                                                                                                                                                                                                    ​\n",
    "                                                                                                                                                                                                                                                                                                                                                                                                                                                                                                                                                                                                                    In [ ]:\n",
    "\n",
    "                                                                                                                                                                                                                                                                                                                                                                                                                                                                                                                                                                                                                    ​\n",
    "                                                                                                                                                                                                                                                                                                                                                                                                                                                                                                                                                                                                                    In [ ]:\n",
    "\n",
    "                                                                                                                                                                                                                                                                                                                                                                                                                                                                                                                                                                                                                    ​\n",
    "                                                                                                                                                                                                                                                                                                                                                                                                                                                                                                                                                                                                                    In [ ]:\n",
    "\n",
    "                                                                                                                                                                                                                                                                                                                                                                                                                                                                                                                                                                                                                    ​\n",
    "                                                                                                                                                                                                                                                                                                                                                                                                                                                                                                                                                                                                                    In [ ]:\n",
    "\n",
    "                                                                                                                                                                                                                                                                                                                                                                                                                                                                                                                                                                                                                    ​\n",
    "                                                                                                                                                                                                                                                                                                                                                                                                                                                                                                                                                                                                                    In [ ]:\n",
    "\n",
    "                                                                                                                                                                                                                                                                                                                                                                                                                                                                                                                                                                                                                    ​\n",
    "                                                                                                                                                                                                                                                                                                                                                                                                                                                                                                                                                                                                                    In [ ]:\n",
    "\n",
    "                                                                                                                                                                                                                                                                                                                                                                                                                                                                                                                                                                                                                    ​\n",
    "                                                                                                                                                                                                                                                                                                                                                                                                                                                                                                                                                                                                                    In [ ]:\n",
    "\n",
    "                                                                                                                                                                                                                                                                                                                                                                                                                                                                                                                                                                                                                    ​\n",
    "                                                                                                                                                                                                                                                                                                                                                                                                                                                                                                                                                                                                                    In [ ]:\n",
    "\n",
    "                                                                                                                                                                                                                                                                                                                                                                                                                                                                                                                                                                                                                    ​\n",
    "                                                                                                                                                                                                                                                                                                                                                                                                                                                                                                                                                                                                                    In [ ]:\n",
    "\n",
    "                                                                                                                                                                                                                                                                                                                                                                                                                                                                                                                                                                                                                    ​\n",
    "                                                                                                                                                                                                                                                                                                                                                                                                                                                                                                                                                                                                                    In [ ]:\n",
    "\n",
    "                                                                                                                                                                                                                                                                                                                                                                                                                                                                                                                                                                                                                    ​\n",
    "                                                                                                                                                                                                                                                                                                                                                                                                                                                                                                                                                                                                                    In [ ]:\n",
    "\n",
    "                                                                                                                                                                                                                                                                                                                                                                                                                                                                                                                                                                                                                    ​\n",
    "                                                                                                                                                                                                                                                                                                                                                                                                                                                                                                                                                                                                                    In [ ]:\n",
    "\n",
    "                                                                                                                                                                                                                                                                                                                                                                                                                                                                                                                                                                                                                    ​\n",
    "                                                                                                                                                                                                                                                                                                                                                                                                                                                                                                                                                                                                                    In [ ]:\n",
    "\n",
    "                                                                                                                                                                                                                                                                                                                                                                                                                                                                                                                                                                                                                    ​\n",
    "                                                                                                                                                                                                                                                                                                                                                                                                                                                                                                                                                                                                                    In [ ]:\n",
    "\n",
    "                                                                                                                                                                                                                                                                                                                                                                                                                                                                                                                                                                                                                    ​\n",
    "                                                                                                                                                                                                                                                                                                                                                                                                                                                                                                                                                                                                                    In [ ]:\n",
    "\n",
    "                                                                                                                                                                                                                                                                                                                                                                                                                                                                                                                                                                                                                    ​\n",
    "                                                                                                                                                                                                                                                                                                                                                                                                                                                                                                                                                                                                                    In [ ]:\n",
    "\n",
    "                                                                                                                                                                                                                                                                                                                                                                                                                                                                                                                                                                                                                    ​\n",
    "                                                                                                                                                                                                                                                                                                                                                                                                                                                                                                                                                                                                                    In [ ]:\n",
    "\n",
    "                                                                                                                                                                                                                                                                                                                                                                                                                                                                                                                                                                                                                    ​\n",
    "                                                                                                                                                                                                                                                                                                                                                                                                                                                                                                                                                                                                                    In [ ]:\n",
    "\n",
    "                                                                                                                                                                                                                                                                                                                                                                                                                                                                                                                                                                                                                    ​\n",
    "                                                                                                                                                                                                                                                                                                                                                                                                                                                                                                                                                                                                                    In [ ]:\n",
    "\n",
    "                                                                                                                                                                                                                                                                                                                                                                                                                                                                                                                                                                                                                    ​\n",
    "                                                                                                                                                                                                                                                                                                                                                                                                                                                                                                                                                                                                                    In [ ]:\n",
    "\n",
    "                                                                                                                                                                                                                                                                                                                                                                                                                                                                                                                                                                                                                    ​\n",
    "                                                                                                                                                                                                                                                                                                                                                                                                                                                                                                                                                                                                                    In [ ]:\n",
    "\n",
    "                                                                                                                                                                                                                                                                                                                                                                                                                                                                                                                                                                                                                    ​\n",
    "                                                                                                                                                                                                                                                                                                                                                                                                                                                                                                                                                                                                                    In [ ]:\n",
    "\n",
    "                                                                                                                                                                                                                                                                                                                                                                                                                                                                                                                                                                                                                    ​\n",
    "                                                                                                                                                                                                                                                                                                                                                                                                                                                                                                                                                                                                                    In [ ]:\n",
    "\n",
    "                                                                                                                                                                                                                                                                                                                                                                                                                                                                                                                                                                                                                    ​\n",
    "                                                                                                                                                                                                                                                                                                                                                                                                                                                                                                                                                                                                                    In [ ]:\n",
    "\n",
    "                                                                                                                                                                                                                                                                                                                                                                                                                                                                                                                                                                                                                    ​\n",
    "                                                                                                                                                                                                                                                                                                                                                                                                                                                                                                                                                                                                                    In [ ]:\n",
    "\n",
    "                                                                                                                                                                                                                                                                                                                                                                                                                                                                                                                                                                                                                    ​\n",
    "                                                                                                                                                                                                                                                                                                                                                                                                                                                                                                                                                                                                                    In [ ]:\n",
    "\n",
    "                                                                                                                                                                                                                                                                                                                                                                                                                                                                                                                                                                                                                    ​\n",
    "                                                                                                                                                                                                                                                                                                                                                                                                                                                                                                                                                                                                                    In [ ]:\n",
    "\n",
    "                                                                                                                                                                                                                                                                                                                                                                                                                                                                                                                                                                                                                    ​\n",
    "                                                                                                                                                                                                                                                                                                                                                                                                                                                                                                                                                                                                                    In [ ]:\n",
    "\n",
    "                                                                                                                                                                                                                                                                                                                                                                                                                                                                                                                                                                                                                    ​\n",
    "                                                                                                                                                                                                                                                                                                                                                                                                                                                                                                                                                                                                                    In [ ]:\n",
    "\n",
    "                                                                                                                                                                                                                                                                                                                                                                                                                                                                                                                                                                                                                    ​\n",
    "                                                                                                                                                                                                                                                                                                                                                                                                                                                                                                                                                                                                                    In [ ]:\n",
    "\n",
    "                                                                                                                                                                                                                                                                                                                                                                                                                                                                                                                                                                                                                    ​\n",
    "                                                                                                                                                                                                                                                                                                                                                                                                                                                                                                                                                                                                                    In [ ]:\n",
    "\n",
    "                                                                                                                                                                                                                                                                                                                                                                                                                                                                                                                                                                                                                    ​\n",
    "                                                                                                                                                                                                                                                                                                                                                                                                                                                                                                                                                                                                                    In [ ]:\n",
    "\n",
    "                                                                                                                                                                                                                                                                                                                                                                                                                                                                                                                                                                                                                    ​\n",
    "                                                                                                                                                                                                                                                                                                                                                                                                                                                                                                                                                                                                                    In [ ]:\n",
    "\n",
    "                                                                                                                                                                                                                                                                                                                                                                                                                                                                                                                                                                                                                    ​\n",
    "                                                                                                                                                                                                                                                                                                                                                                                                                                                                                                                                                                                                                    In [ ]:\n",
    "\n",
    "                                                                                                                                                                                                                                                                                                                                                                                                                                                                                                                                                                                                                    ​\n",
    "                                                                                                                                                                                                                                                                                                                                                                                                                                                                                                                                                                                                                    In [ ]:\n",
    "\n",
    "                                                                                                                                                                                                                                                                                                                                                                                                                                                                                                                                                                                                                    ​\n",
    "                                                                                                                                                                                                                                                                                                                                                                                                                                                                                                                                                                                                                    In [ ]:\n",
    "\n",
    "                                                                                                                                                                                                                                                                                                                                                                                                                                                                                                                                                                                                                    ​\n",
    "                                                                                                                                                                                                                                                                                                                                                                                                                                                                                                                                                                                                                    In [ ]:\n",
    "\n",
    "                                                                                                                                                                                                                                                                                                                                                                                                                                                                                                                                                                                                                    ​\n",
    "                                                                                                                                                                                                                                                                                                                                                                                                                                                                                                                                                                                                                    In [ ]:\n",
    "\n",
    "                                                                                                                                                                                                                                                                                                                                                                                                                                                                                                                                                                                                                    ​\n",
    "                                                                                                                                                                                                                                                                                                                                                                                                                                                                                                                                                                                                                    In [ ]:\n",
    "\n",
    "                                                                                                                                                                                                                                                                                                                                                                                                                                                                                                                                                                                                                    ​\n",
    "                                                                                                                                                                                                                                                                                                                                                                                                                                                                                                                                                                                                                    In [ ]:\n",
    "\n",
    "                                                                                                                                                                                                                                                                                                                                                                                                                                                                                                                                                                                                                    ​\n",
    "                                                                                                                                                                                                                                                                                                                                                                                                                                                                                                                                                                                                                    In [ ]:\n",
    "\n",
    "                                                                                                                                                                                                                                                                                                                                                                                                                                                                                                                                                                                                                    ​\n",
    "                                                                                                                                                                                                                                                                                                                                                                                                                                                                                                                                                                                                                    In [ ]:\n",
    "\n",
    "                                                                                                                                                                                                                                                                                                                                                                                                                                                                                                                                                                                                                    ​\n",
    "                                                                                                                                                                                                                                                                                                                                                                                                                                                                                                                                                                                                                    In [ ]:\n",
    "\n",
    "                                                                                                                                                                                                                                                                                                                                                                                                                                                                                                                                                                                                                    ​\n",
    "                                                                                                                                                                                                                                                                                                                                                                                                                                                                                                                                                                                                                    In [ ]:\n",
    "\n",
    "                                                                                                                                                                                                                                                                                                                                                                                                                                                                                                                                                                                                                    ​\n",
    "                                                                                                                                                                                                                                                                                                                                                                                                                                                                                                                                                                                                                    In [ ]:\n",
    "\n",
    "                                                                                                                                                                                                                                                                                                                                                                                                                                                                                                                                                                                                                    ​\n",
    "                                                                                                                                                                                                                                                                                                                                                                                                                                                                                                                                                                                                                    In [ ]:\n",
    "\n",
    "                                                                                                                                                                                                                                                                                                                                                                                                                                                                                                                                                                                                                    ​\n",
    "                                                                                                                                                                                                                                                                                                                                                                                                                                                                                                                                                                                                                    In [ ]:\n",
    "\n",
    "                                                                                                                                                                                                                                                                                                                                                                                                                                                                                                                                                                                                                    ​\n",
    "                                                                                                                                                                                                                                                                                                                                                                                                                                                                                                                                                                                                                    In [ ]:\n",
    "\n",
    "                                                                                                                                                                                                                                                                                                                                                                                                                                                                                                                                                                                                                    ​\n",
    "                                                                                                                                                                                                                                                                                                                                                                                                                                                                                                                                                                                                                    In [ ]:\n",
    "\n",
    "                                                                                                                                                                                                                                                                                                                                                                                                                                                                                                                                                                                                                    ​\n",
    "                                                                                                                                                                                                                                                                                                                                                                                                                                                                                                                                                                                                                    In [ ]:\n",
    "\n",
    "                                                                                                                                                                                                                                                                                                                                                                                                                                                                                                                                                                                                                    ​\n",
    "                                                                                                                                                                                                                                                                                                                                                                                                                                                                                                                                                                                                                    In [ ]:\n",
    "\n",
    "                                                                                                                                                                                                                                                                                                                                                                                                                                                                                                                                                                                                                    ​\n",
    "                                                                                                                                                                                                                                                                                                                                                                                                                                                                                                                                                                                                                    In [ ]:\n",
    "\n",
    "                                                                                                                                                                                                                                                                                                                                                                                                                                                                                                                                                                                                                    ​\n",
    "                                                                                                                                                                                                                                                                                                                                                                                                                                                                                                                                                                                                                    In [ ]:\n",
    "\n",
    "                                                                                                                                                                                                                                                                                                                                                                                                                                                                                                                                                                                                                    ​\n",
    "                                                                                                                                                                                                                                                                                                                                                                                                                                                                                                                                                                                                                    In [ ]:\n",
    "\n",
    "                                                                                                                                                                                                                                                                                                                                                                                                                                                                                                                                                                                                                    ​\n",
    "                                                                                                                                                                                                                                                                                                                                                                                                                                                                                                                                                                                                                    In [ ]:\n",
    "\n",
    "                                                                                                                                                                                                                                                                                                                                                                                                                                                                                                                                                                                                                    ​\n",
    "                                                                                                                                                                                                                                                                                                                                                                                                                                                                                                                                                                                                                    In [ ]:\n",
    "\n",
    "                                                                                                                                                                                                                                                                                                                                                                                                                                                                                                                                                                                                                    ​\n",
    "                                                                                                                                                                                                                                                                                                                                                                                                                                                                                                                                                                                                                    In [ ]:\n",
    "\n",
    "                                                                                                                                                                                                                                                                                                                                                                                                                                                                                                                                                                                                                    ​\n",
    "                                                                                                                                                                                                                                                                                                                                                                                                                                                                                                                                                                                                                    In [ ]:\n",
    "\n",
    "                                                                                                                                                                                                                                                                                                                                                                                                                                                                                                                                                                                                                    ​\n",
    "                                                                                                                                                                                                                                                                                                                                                                                                                                                                                                                                                                                                                    In [ ]:\n",
    "\n",
    "                                                                                                                                                                                                                                                                                                                                                                                                                                                                                                                                                                                                                    ​\n",
    "                                                                                                                                                                                                                                                                                                                                                                                                                                                                                                                                                                                                                    In [ ]:\n",
    "\n",
    "                                                                                                                                                                                                                                                                                                                                                                                                                                                                                                                                                                                                                    ​\n",
    "                                                                                                                                                                                                                                                                                                                                                                                                                                                                                                                                                                                                                    In [ ]:\n",
    "\n",
    "                                                                                                                                                                                                                                                                                                                                                                                                                                                                                                                                                                                                                    ​\n",
    "                                                                                                                                                                                                                                                                                                                                                                                                                                                                                                                                                                                                                    In [ ]:\n",
    "\n",
    "                                                                                                                                                                                                                                                                                                                                                                                                                                                                                                                                                                                                                    ​\n",
    "                                                                                                                                                                                                                                                                                                                                                                                                                                                                                                                                                                                                                    In [ ]:\n",
    "\n",
    "                                                                                                                                                                                                                                                                                                                                                                                                                                                                                                                                                                                                                    ​\n",
    "                                                                                                                                                                                                                                                                                                                                                                                                                                                                                                                                                                                                                    In [ ]:\n",
    "\n",
    "                                                                                                                                                                                                                                                                                                                                                                                                                                                                                                                                                                                                                    ​\n",
    "                                                                                                                                                                                                                                                                                                                                                                                                                                                                                                                                                                                                                    In [ ]:\n",
    "\n",
    "                                                                                                                                                                                                                                                                                                                                                                                                                                                                                                                                                                                                                    ​\n",
    "                                                                                                                                                                                                                                                                                                                                                                                                                                                                                                                                                                                                                    In [ ]:\n",
    "\n",
    "                                                                                                                                                                                                                                                                                                                                                                                                                                                                                                                                                                                                                    ​\n",
    "                                                                                                                                                                                                                                                                                                                                                                                                                                                                                                                                                                                                                    In [ ]:\n",
    "\n",
    "                                                                                                                                                                                                                                                                                                                                                                                                                                                                                                                                                                                                                    ​\n",
    "                                                                                                                                                                                                                                                                                                                                                                                                                                                                                                                                                                                                                    In [ ]:\n",
    "\n",
    "                                                                                                                                                                                                                                                                                                                                                                                                                                                                                                                                                                                                                    ​\n",
    "                                                                                                                                                                                                                                                                                                                                                                                                                                                                                                                                                                                                                    In [ ]:\n",
    "\n",
    "                                                                                                                                                                                                                                                                                                                                                                                                                                                                                                                                                                                                                    ​\n",
    "                                                                                                                                                                                                                                                                                                                                                                                                                                                                                                                                                                                                                    In [ ]:\n",
    "\n",
    "                                                                                                                                                                                                                                                                                                                                                                                                                                                                                                                                                                                                                    ​\n",
    "                                                                                                                                                                                                                                                                                                                                                                                                                                                                                                                                                                                                                    In [ ]:\n",
    "\n",
    "                                                                                                                                                                                                                                                                                                                                                                                                                                                                                                                                                                                                                    ​\n",
    "                                                                                                                                                                                                                                                                                                                                                                                                                                                                                                                                                                                                                    In [ ]:\n",
    "\n",
    "                                                                                                                                                                                                                                                                                                                                                                                                                                                                                                                                                                                                                    ​\n",
    "                                                                                                                                                                                                                                                                                                                                                                                                                                                                                                                                                                                                                    In [ ]:\n",
    "\n",
    "                                                                                                                                                                                                                                                                                                                                                                                                                                                                                                                                                                                                                    ​\n",
    "                                                                                                                                                                                                                                                                                                                                                                                                                                                                                                                                                                                                                    In [ ]:\n",
    "\n",
    "                                                                                                                                                                                                                                                                                                                                                                                                                                                                                                                                                                                                                    ​\n",
    "                                                                                                                                                                                                                                                                                                                                                                                                                                                                                                                                                                                                                    In [ ]:\n",
    "\n",
    "                                                                                                                                                                                                                                                                                                                                                                                                                                                                                                                                                                                                                    ​\n",
    "                                                                                                                                                                                                                                                                                                                                                                                                                                                                                                                                                                                                                    In [ ]:\n",
    "\n",
    "                                                                                                                                                                                                                                                                                                                                                                                                                                                                                                                                                                                                                    ​\n",
    "                                                                                                                                                                                                                                                                                                                                                                                                                                                                                                                                                                                                                    In [ ]:\n",
    "\n",
    "                                                                                                                                                                                                                                                                                                                                                                                                                                                                                                                                                                                                                    ​\n",
    "                                                                                                                                                                                                                                                                                                                                                                                                                                                                                                                                                                                                                    In [ ]:\n",
    "\n",
    "                                                                                                                                                                                                                                                                                                                                                                                                                                                                                                                                                                                                                    ​\n",
    "                                                                                                                                                                                                                                                                                                                                                                                                                                                                                                                                                                                                                    In [ ]:\n",
    "\n",
    "                                                                                                                                                                                                                                                                                                                                                                                                                                                                                                                                                                                                                    ​\n",
    "                                                                                                                                                                                                                                                                                                                                                                                                                                                                                                                                                                                                                    In [ ]:\n",
    "\n",
    "                                                                                                                                                                                                                                                                                                                                                                                                                                                                                                                                                                                                                    ​\n",
    "                                                                                                                                                                                                                                                                                                                                                                                                                                                                                                                                                                                                                    In [ ]:\n",
    "\n",
    "                                                                                                                                                                                                                                                                                                                                                                                                                                                                                                                                                                                                                    ​\n",
    "                                                                                                                                                                                                                                                                                                                                                                                                                                                                                                                                                                                                                    In [ ]:\n",
    "\n",
    "                                                                                                                                                                                                                                                                                                                                                                                                                                                                                                                                                                                                                    ​\n",
    "                                                                                                                                                                                                                                                                                                                                                                                                                                                                                                                                                                                                                    In [ ]:\n",
    "\n",
    "                                                                                                                                                                                                                                                                                                                                                                                                                                                                                                                                                                                                                    ​\n",
    "                                                                                                                                                                                                                                                                                                                                                                                                                                                                                                                                                                                                                    In [ ]:\n",
    "\n",
    "                                                                                                                                                                                                                                                                                                                                                                                                                                                                                                                                                                                                                    ​\n",
    "                                                                                                                                                                                                                                                                                                                                                                                                                                                                                                                                                                                                                    In [ ]:\n",
    "\n",
    "                                                                                                                                                                                                                                                                                                                                                                                                                                                                                                                                                                                                                    ​\n",
    "                                                                                                                                                                                                                                                                                                                                                                                                                                                                                                                                                                                                                    In [ ]:\n",
    "\n",
    "                                                                                                                                                                                                                                                                                                                                                                                                                                                                                                                                                                                                                    ​\n",
    "                                                                                                                                                                                                                                                                                                                                                                                                                                                                                                                                                                                                                    In [ ]:\n",
    "\n",
    "                                                                                                                                                                                                                                                                                                                                                                                                                                                                                                                                                                                                                    ​\n",
    "                                                                                                                                                                                                                                                                                                                                                                                                                                                                                                                                                                                                                    In [ ]:\n",
    "\n",
    "                                                                                                                                                                                                                                                                                                                                                                                                                                                                                                                                                                                                                    ​\n",
    "                                                                                                                                                                                                                                                                                                                                                                                                                                                                                                                                                                                                                    In [ ]:\n",
    "\n",
    "                                                                                                                                                                                                                                                                                                                                                                                                                                                                                                                                                                                                                    ​\n",
    "                                                                                                                                                                                                                                                                                                                                                                                                                                                                                                                                                                                                                    In [ ]:\n",
    "\n",
    "                                                                                                                                                                                                                                                                                                                                                                                                                                                                                                                                                                                                                    ​\n",
    "                                                                                                                                                                                                                                                                                                                                                                                                                                                                                                                                                                                                                    In [ ]:\n",
    "\n",
    "                                                                                                                                                                                                                                                                                                                                                                                                                                                                                                                                                                                                                    ​\n",
    "                                                                                                                                                                                                                                                                                                                                                                                                                                                                                                                                                                                                                    In [ ]:\n",
    "\n",
    "                                                                                                                                                                                                                                                                                                                                                                                                                                                                                                                                                                                                                    ​\n",
    "                                                                                                                                                                                                                                                                                                                                                                                                                                                                                                                                                                                                                    In [ ]:\n",
    "\n",
    "                                                                                                                                                                                                                                                                                                                                                                                                                                                                                                                                                                                                                    ​\n",
    "                                                                                                                                                                                                                                                                                                                                                                                                                                                                                                                                                                                                                    In [ ]:\n",
    "\n",
    "                                                                                                                                                                                                                                                                                                                                                                                                                                                                                                                                                                                                                    ​\n",
    "                                                                                                                                                                                                                                                                                                                                                                                                                                                                                                                                                                                                                    In [ ]:\n",
    "\n",
    "                                                                                                                                                                                                                                                                                                                                                                                                                                                                                                                                                                                                                    ​\n",
    "                                                                                                                                                                                                                                                                                                                                                                                                                                                                                                                                                                                                                    In [ ]:\n",
    "\n",
    "                                                                                                                                                                                                                                                                                                                                                                                                                                                                                                                                                                                                                    ​\n",
    "                                                                                                                                                                                                                                                                                                                                                                                                                                                                                                                                                                                                                    In [ ]:\n",
    "\n",
    "                                                                                                                                                                                                                                                                                                                                                                                                                                                                                                                                                                                                                    ​\n",
    "                                                                                                                                                                                                                                                                                                                                                                                                                                                                                                                                                                                                                    In [ ]:\n",
    "\n",
    "                                                                                                                                                                                                                                                                                                                                                                                                                                                                                                                                                                                                                    ​\n",
    "                                                                                                                                                                                                                                                                                                                                                                                                                                                                                                                                                                                                                    In [ ]:\n",
    "\n",
    "                                                                                                                                                                                                                                                                                                                                                                                                                                                                                                                                                                                                                    ​\n",
    "                                                                                                                                                                                                                                                                                                                                                                                                                                                                                                                                                                                                                    In [ ]:\n",
    "\n",
    "                                                                                                                                                                                                                                                                                                                                                                                                                                                                                                                                                                                                                    ​\n",
    "                                                                                                                                                                                                                                                                                                                                                                                                                                                                                                                                                                                                                    In [ ]:\n",
    "\n",
    "                                                                                                                                                                                                                                                                                                                                                                                                                                                                                                                                                                                                                    ​\n",
    "                                                                                                                                                                                                                                                                                                                                                                                                                                                                                                                                                                                                                    In [ ]:\n",
    "\n",
    "                                                                                                                                                                                                                                                                                                                                                                                                                                                                                                                                                                                                                    ​\n",
    "                                                                                                                                                                                                                                                                                                                                                                                                                                                                                                                                                                                                                    In [ ]:\n",
    "\n",
    "                                                                                                                                                                                                                                                                                                                                                                                                                                                                                                                                                                                                                    ​\n",
    "                                                                                                                                                                                                                                                                                                                                                                                                                                                                                                                                                                                                                    In [ ]:\n",
    "\n",
    "                                                                                                                                                                                                                                                                                                                                                                                                                                                                                                                                                                                                                    ​\n",
    "                                                                                                                                                                                                                                                                                                                                                                                                                                                                                                                                                                                                                    In [ ]:\n",
    "\n",
    "                                                                                                                                                                                                                                                                                                                                                                                                                                                                                                                                                                                                                    ​\n",
    "                                                                                                                                                                                                                                                                                                                                                                                                                                                                                                                                                                                                                    In [ ]:\n",
    "\n",
    "                                                                                                                                                                                                                                                                                                                                                                                                                                                                                                                                                                                                                    ​\n",
    "                                                                                                                                                                                                                                                                                                                                                                                                                                                                                                                                                                                                                    In [ ]:\n",
    "\n",
    "                                                                                                                                                                                                                                                                                                                                                                                                                                                                                                                                                                                                                    ​\n",
    "                                                                                                                                                                                                                                                                                                                                                                                                                                                                                                                                                                                                                    In [ ]:\n",
    "\n",
    "                                                                                                                                                                                                                                                                                                                                                                                                                                                                                                                                                                                                                    ​\n",
    "                                                                                                                                                                                                                                                                                                                                                                                                                                                                                                                                                                                                                    In [ ]:\n",
    "\n",
    "                                                                                                                                                                                                                                                                                                                                                                                                                                                                                                                                                                                                                    ​\n",
    "                                                                                                                                                                                                                                                                                                                                                                                                                                                                                                                                                                                                                    In [ ]:\n",
    "\n",
    "                                                                                                                                                                                                                                                                                                                                                                                                                                                                                                                                                                                                                    ​\n",
    "                                                                                                                                                                                                                                                                                                                                                                                                                                                                                                                                                                                                                    In [ ]:\n",
    "\n",
    "                                                                                                                                                                                                                                                                                                                                                                                                                                                                                                                                                                                                                    ​\n",
    "                                                                                                                                                                                                                                                                                                                                                                                                                                                                                                                                                                                                                    In [ ]:\n",
    "\n",
    "                                                                                                                                                                                                                                                                                                                                                                                                                                                                                                                                                                                                                    ​\n",
    "                                                                                                                                                                                                                                                                                                                                                                                                                                                                                                                                                                                                                    In [ ]:\n",
    "\n",
    "                                                                                                                                                                                                                                                                                                                                                                                                                                                                                                                                                                                                                    ​\n",
    "                                                                                                                                                                                                                                                                                                                                                                                                                                                                                                                                                                                                                    In [ ]:\n",
    "\n",
    "                                                                                                                                                                                                                                                                                                                                                                                                                                                                                                                                                                                                                    ​\n",
    "                                                                                                                                                                                                                                                                                                                                                                                                                                                                                                                                                                                                                    In [ ]:\n",
    "\n",
    "                                                                                                                                                                                                                                                                                                                                                                                                                                                                                                                                                                                                                    ​\n",
    "                                                                                                                                                                                                                                                                                                                                                                                                                                                                                                                                                                                                                    In [ ]:\n",
    "\n",
    "                                                                                                                                                                                                                                                                                                                                                                                                                                                                                                                                                                                                                    ​\n",
    "                                                                                                                                                                                                                                                                                                                                                                                                                                                                                                                                                                                                                    In [ ]:\n",
    "\n",
    "                                                                                                                                                                                                                                                                                                                                                                                                                                                                                                                                                                                                                    ​\n",
    "                                                                                                                                                                                                                                                                                                                                                                                                                                                                                                                                                                                                                    In [ ]:\n",
    "\n",
    "                                                                                                                                                                                                                                                                                                                                                                                                                                                                                                                                                                                                                    ​\n",
    "                                                                                                                                                                                                                                                                                                                                                                                                                                                                                                                                                                                                                    In [ ]:\n",
    "\n",
    "                                                                                                                                                                                                                                                                                                                                                                                                                                                                                                                                                                                                                    ​\n",
    "                                                                                                                                                                                                                                                                                                                                                                                                                                                                                                                                                                                                                    In [ ]:\n",
    "\n",
    "                                                                                                                                                                                                                                                                                                                                                                                                                                                                                                                                                                                                                    ​\n",
    "                                                                                                                                                                                                                                                                                                                                                                                                                                                                                                                                                                                                                    In [ ]:\n",
    "\n",
    "                                                                                                                                                                                                                                                                                                                                                                                                                                                                                                                                                                                                                    ​\n",
    "                                                                                                                                                                                                                                                                                                                                                                                                                                                                                                                                                                                                                    In [ ]:\n",
    "\n",
    "                                                                                                                                                                                                                                                                                                                                                                                                                                                                                                                                                                                                                    ​\n",
    "                                                                                                                                                                                                                                                                                                                                                                                                                                                                                                                                                                                                                    In [ ]:\n",
    "\n",
    "                                                                                                                                                                                                                                                                                                                                                                                                                                                                                                                                                                                                                    ​\n",
    "                                                                                                                                                                                                                                                                                                                                                                                                                                                                                                                                                                                                                    In [ ]:\n",
    "\n",
    "                                                                                                                                                                                                                                                                                                                                                                                                                                                                                                                                                                                                                    ​\n",
    "                                                                                                                                                                                                                                                                                                                                                                                                                                                                                                                                                                                                                    In [ ]:\n",
    "\n",
    "                                                                                                                                                                                                                                                                                                                                                                                                                                                                                                                                                                                                                    ​\n",
    "                                                                                                                                                                                                                                                                                                                                                                                                                                                                                                                                                                                                                    In [ ]:\n",
    "\n",
    "                                                                                                                                                                                                                                                                                                                                                                                                                                                                                                                                                                                                                    ​\n",
    "                                                                                                                                                                                                                                                                                                                                                                                                                                                                                                                                                                                                                    In [ ]:\n",
    "\n",
    "                                                                                                                                                                                                                                                                                                                                                                                                                                                                                                                                                                                                                    ​\n",
    "                                                                                                                                                                                                                                                                                                                                                                                                                                                                                                                                                                                                                    In [ ]:\n",
    "\n",
    "                                                                                                                                                                                                                                                                                                                                                                                                                                                                                                                                                                                                                    ​\n",
    "                                                                                                                                                                                                                                                                                                                                                                                                                                                                                                                                                                                                                    In [ ]:\n",
    "\n",
    "                                                                                                                                                                                                                                                                                                                                                                                                                                                                                                                                                                                                                    ​\n",
    "                                                                                                                                                                                                                                                                                                                                                                                                                                                                                                                                                                                                                    In [ ]:\n",
    "\n",
    "                                                                                                                                                                                                                                                                                                                                                                                                                                                                                                                                                                                                                    ​\n",
    "                                                                                                                                                                                                                                                                                                                                                                                                                                                                                                                                                                                                                    In [ ]:\n",
    "\n",
    "                                                                                                                                                                                                                                                                                                                                                                                                                                                                                                                                                                                                                    ​\n",
    "                                                                                                                                                                                                                                                                                                                                                                                                                                                                                                                                                                                                                    In [ ]:\n",
    "\n",
    "                                                                                                                                                                                                                                                                                                                                                                                                                                                                                                                                                                                                                    ​\n",
    "                                                                                                                                                                                                                                                                                                                                                                                                                                                                                                                                                                                                                    In [ ]:\n",
    "\n",
    "                                                                                                                                                                                                                                                                                                                                                                                                                                                                                                                                                                                                                    ​\n",
    "                                                                                                                                                                                                                                                                                                                                                                                                                                                                                                                                                                                                                    In [ ]:\n",
    "\n",
    "                                                                                                                                                                                                                                                                                                                                                                                                                                                                                                                                                                                                                    ​\n",
    "                                                                                                                                                                                                                                                                                                                                                                                                                                                                                                                                                                                                                    In [ ]:\n",
    "\n",
    "                                                                                                                                                                                                                                                                                                                                                                                                                                                                                                                                                                                                                    ​\n",
    "                                                                                                                                                                                                                                                                                                                                                                                                                                                                                                                                                                                                                    In [ ]:\n",
    "\n",
    "                                                                                                                                                                                                                                                                                                                                                                                                                                                                                                                                                                                                                    ​\n",
    "                                                                                                                                                                                                                                                                                                                                                                                                                                                                                                                                                                                                                    In [ ]:\n",
    "\n",
    "                                                                                                                                                                                                                                                                                                                                                                                                                                                                                                                                                                                                                    ​\n",
    "                                                                                                                                                                                                                                                                                                                                                                                                                                                                                                                                                                                                                    In [ ]:\n",
    "\n",
    "                                                                                                                                                                                                                                                                                                                                                                                                                                                                                                                                                                                                                    ​\n",
    "                                                                                                                                                                                                                                                                                                                                                                                                                                                                                                                                                                                                                    In [ ]:\n",
    "\n",
    "                                                                                                                                                                                                                                                                                                                                                                                                                                                                                                                                                                                                                    ​\n",
    "                                                                                                                                                                                                                                                                                                                                                                                                                                                                                                                                                                                                                    In [ ]:\n",
    "\n",
    "                                                                                                                                                                                                                                                                                                                                                                                                                                                                                                                                                                                                                    ​\n",
    "                                                                                                                                                                                                                                                                                                                                                                                                                                                                                                                                                                                                                    In [ ]:\n",
    "\n",
    "                                                                                                                                                                                                                                                                                                                                                                                                                                                                                                                                                                                                                    ​\n",
    "                                                                                                                                                                                                                                                                                                                                                                                                                                                                                                                                                                                                                    In [ ]:\n",
    "\n",
    "                                                                                                                                                                                                                                                                                                                                                                                                                                                                                                                                                                                                                    ​\n",
    "                                                                                                                                                                                                                                                                                                                                                                                                                                                                                                                                                                                                                    In [ ]:\n",
    "\n",
    "                                                                                                                                                                                                                                                                                                                                                                                                                                                                                                                                                                                                                    ​\n",
    "                                                                                                                                                                                                                                                                                                                                                                                                                                                                                                                                                                                                                    In [ ]:\n",
    "\n",
    "                                                                                                                                                                                                                                                                                                                                                                                                                                                                                                                                                                                                                    ​\n",
    "                                                                                                                                                                                                                                                                                                                                                                                                                                                                                                                                                                                                                    In [ ]:\n",
    "\n",
    "                                                                                                                                                                                                                                                                                                                                                                                                                                                                                                                                                                                                                    ​\n",
    "                                                                                                                                                                                                                                                                                                                                                                                                                                                                                                                                                                                                                    In [ ]:\n",
    "\n",
    "                                                                                                                                                                                                                                                                                                                                                                                                                                                                                                                                                                                                                    ​\n",
    "                                                                                                                                                                                                                                                                                                                                                                                                                                                                                                                                                                                                                    In [ ]:\n",
    "\n",
    "                                                                                                                                                                                                                                                                                                                                                                                                                                                                                                                                                                                                                    ​\n",
    "                                                                                                                                                                                                                                                                                                                                                                                                                                                                                                                                                                                                                    In [ ]:\n",
    "\n",
    "                                                                                                                                                                                                                                                                                                                                                                                                                                                                                                                                                                                                                    ​\n",
    "                                                                                                                                                                                                                                                                                                                                                                                                                                                                                                                                                                                                                    In [ ]:\n",
    "\n",
    "                                                                                                                                                                                                                                                                                                                                                                                                                                                                                                                                                                                                                    ​\n",
    "                                                                                                                                                                                                                                                                                                                                                                                                                                                                                                                                                                                                                    In [ ]:\n",
    "\n",
    "                                                                                                                                                                                                                                                                                                                                                                                                                                                                                                                                                                                                                    ​\n",
    "                                                                                                                                                                                                                                                                                                                                                                                                                                                                                                                                                                                                                    In [ ]:\n",
    "\n",
    "                                                                                                                                                                                                                                                                                                                                                                                                                                                                                                                                                                                                                    ​\n",
    "                                                                                                                                                                                                                                                                                                                                                                                                                                                                                                                                                                                                                    In [ ]:\n",
    "\n",
    "                                                                                                                                                                                                                                                                                                                                                                                                                                                                                                                                                                                                                    ​\n",
    "                                                                                                                                                                                                                                                                                                                                                                                                                                                                                                                                                                                                                    In [ ]:\n",
    "\n",
    "                                                                                                                                                                                                                                                                                                                                                                                                                                                                                                                                                                                                                    ​\n",
    "                                                                                                                                                                                                                                                                                                                                                                                                                                                                                                                                                                                                                    In [ ]:\n",
    "\n",
    "                                                                                                                                                                                                                                                                                                                                                                                                                                                                                                                                                                                                                    ​\n",
    "                                                                                                                                                                                                                                                                                                                                                                                                                                                                                                                                                                                                                    In [ ]:\n",
    "\n",
    "                                                                                                                                                                                                                                                                                                                                                                                                                                                                                                                                                                                                                    ​\n",
    "                                                                                                                                                                                                                                                                                                                                                                                                                                                                                                                                                                                                                    In [ ]:\n",
    "\n",
    "                                                                                                                                                                                                                                                                                                                                                                                                                                                                                                                                                                                                                    ​\n",
    "                                                                                                                                                                                                                                                                                                                                                                                                                                                                                                                                                                                                                    In [ ]:\n",
    "\n",
    "                                                                                                                                                                                                                                                                                                                                                                                                                                                                                                                                                                                                                    ​\n",
    "                                                                                                                                                                                                                                                                                                                                                                                                                                                                                                                                                                                                                    In [ ]:\n",
    "\n",
    "                                                                                                                                                                                                                                                                                                                                                                                                                                                                                                                                                                                                                    ​\n",
    "                                                                                                                                                                                                                                                                                                                                                                                                                                                                                                                                                                                                                    In [ ]:\n",
    "\n",
    "                                                                                                                                                                                                                                                                                                                                                                                                                                                                                                                                                                                                                    ​\n",
    "                                                                                                                                                                                                                                                                                                                                                                                                                                                                                                                                                                                                                    In [ ]:\n",
    "\n",
    "                                                                                                                                                                                                                                                                                                                                                                                                                                                                                                                                                                                                                    ​\n",
    "                                                                                                                                                                                                                                                                                                                                                                                                                                                                                                                                                                                                                    In [ ]:\n",
    "\n",
    "                                                                                                                                                                                                                                                                                                                                                                                                                                                                                                                                                                                                                    ​\n",
    "                                                                                                                                                                                                                                                                                                                                                                                                                                                                                                                                                                                                                    In [ ]:\n",
    "\n",
    "                                                                                                                                                                                                                                                                                                                                                                                                                                                                                                                                                                                                                    ​\n",
    "                                                                                                                                                                                                                                                                                                                                                                                                                                                                                                                                                                                                                    In [ ]:\n",
    "\n",
    "                                                                                                                                                                                                                                                                                                                                                                                                                                                                                                                                                                                                                    ​\n",
    "                                                                                                                                                                                                                                                                                                                                                                                                                                                                                                                                                                                                                    In [ ]:\n",
    "\n",
    "                                                                                                                                                                                                                                                                                                                                                                                                                                                                                                                                                                                                                    ​\n",
    "                                                                                                                                                                                                                                                                                                                                                                                                                                                                                                                                                                                                                    In [ ]:\n",
    "\n",
    "                                                                                                                                                                                                                                                                                                                                                                                                                                                                                                                                                                                                                    ​\n",
    "                                                                                                                                                                                                                                                                                                                                                                                                                                                                                                                                                                                                                    In [ ]:\n",
    "\n",
    "                                                                                                                                                                                                                                                                                                                                                                                                                                                                                                                                                                                                                    ​\n",
    "                                                                                                                                                                                                                                                                                                                                                                                                                                                                                                                                                                                                                    In [ ]:\n",
    "\n",
    "                                                                                                                                                                                                                                                                                                                                                                                                                                                                                                                                                                                                                    ​\n",
    "                                                                                                                                                                                                                                                                                                                                                                                                                                                                                                                                                                                                                    In [ ]:\n",
    "\n",
    "                                                                                                                                                                                                                                                                                                                                                                                                                                                                                                                                                                                                                    ​\n",
    "                                                                                                                                                                                                                                                                                                                                                                                                                                                                                                                                                                                                                    In [ ]:\n",
    "\n",
    "                                                                                                                                                                                                                                                                                                                                                                                                                                                                                                                                                                                                                    ​\n",
    "                                                                                                                                                                                                                                                                                                                                                                                                                                                                                                                                                                                                                    In [ ]:\n",
    "\n",
    "                                                                                                                                                                                                                                                                                                                                                                                                                                                                                                                                                                                                                    ​\n",
    "                                                                                                                                                                                                                                                                                                                                                                                                                                                                                                                                                                                                                    In [ ]:\n",
    "\n",
    "                                                                                                                                                                                                                                                                                                                                                                                                                                                                                                                                                                                                                    ​\n",
    "                                                                                                                                                                                                                                                                                                                                                                                                                                                                                                                                                                                                                    In [ ]:\n",
    "\n",
    "                                                                                                                                                                                                                                                                                                                                                                                                                                                                                                                                                                                                                    ​\n",
    "                                                                                                                                                                                                                                                                                                                                                                                                                                                                                                                                                                                                                    In [ ]:\n",
    "\n",
    "                                                                                                                                                                                                                                                                                                                                                                                                                                                                                                                                                                                                                    ​\n",
    "                                                                                                                                                                                                                                                                                                                                                                                                                                                                                                                                                                                                                    In [ ]:\n",
    "\n",
    "                                                                                                                                                                                                                                                                                                                                                                                                                                                                                                                                                                                                                    ​\n",
    "                                                                                                                                                                                                                                                                                                                                                                                                                                                                                                                                                                                                                    In [ ]:\n",
    "\n",
    "                                                                                                                                                                                                                                                                                                                                                                                                                                                                                                                                                                                                                    ​\n",
    "                                                                                                                                                                                                                                                                                                                                                                                                                                                                                                                                                                                                                    In [ ]:\n",
    "\n",
    "                                                                                                                                                                                                                                                                                                                                                                                                                                                                                                                                                                                                                    ​\n",
    "                                                                                                                                                                                                                                                                                                                                                                                                                                                                                                                                                                                                                    In [ ]:\n",
    "\n",
    "                                                                                                                                                                                                                                                                                                                                                                                                                                                                                                                                                                                                                    ​\n",
    "                                                                                                                                                                                                                                                                                                                                                                                                                                                                                                                                                                                                                    In [ ]:\n",
    "\n",
    "                                                                                                                                                                                                                                                                                                                                                                                                                                                                                                                                                                                                                    ​\n",
    "                                                                                                                                                                                                                                                                                                                                                                                                                                                                                                                                                                                                                    In [ ]:\n",
    "\n",
    "                                                                                                                                                                                                                                                                                                                                                                                                                                                                                                                                                                                                                    ​\n",
    "                                                                                                                                                                                                                                                                                                                                                                                                                                                                                                                                                                                                                    In [ ]:\n",
    "\n",
    "                                                                                                                                                                                                                                                                                                                                                                                                                                                                                                                                                                                                                    ​\n",
    "                                                                                                                                                                                                                                                                                                                                                                                                                                                                                                                                                                                                                    In [ ]:\n",
    "\n",
    "                                                                                                                                                                                                                                                                                                                                                                                                                                                                                                                                                                                                                    ​\n",
    "                                                                                                                                                                                                                                                                                                                                                                                                                                                                                                                                                                                                                    In [ ]:\n",
    "\n",
    "                                                                                                                                                                                                                                                                                                                                                                                                                                                                                                                                                                                                                    ​\n",
    "                                                                                                                                                                                                                                                                                                                                                                                                                                                                                                                                                                                                                    In [ ]:\n",
    "\n",
    "                                                                                                                                                                                                                                                                                                                                                                                                                                                                                                                                                                                                                    ​\n",
    "                                                                                                                                                                                                                                                                                                                                                                                                                                                                                                                                                                                                                    In [ ]:\n",
    "\n",
    "                                                                                                                                                                                                                                                                                                                                                                                                                                                                                                                                                                                                                    ​\n",
    "                                                                                                                                                                                                                                                                                                                                                                                                                                                                                                                                                                                                                    In [ ]:\n",
    "\n",
    "                                                                                                                                                                                                                                                                                                                                                                                                                                                                                                                                                                                                                    ​\n",
    "                                                                                                                                                                                                                                                                                                                                                                                                                                                                                                                                                                                                                    In [ ]:\n",
    "\n",
    "                                                                                                                                                                                                                                                                                                                                                                                                                                                                                                                                                                                                                    ​\n",
    "                                                                                                                                                                                                                                                                                                                                                                                                                                                                                                                                                                                                                    In [ ]:\n",
    "\n",
    "                                                                                                                                                                                                                                                                                                                                                                                                                                                                                                                                                                                                                    ​\n",
    "                                                                                                                                                                                                                                                                                                                                                                                                                                                                                                                                                                                                                    In [ ]:\n",
    "\n",
    "                                                                                                                                                                                                                                                                                                                                                                                                                                                                                                                                                                                                                    ​\n",
    "                                                                                                                                                                                                                                                                                                                                                                                                                                                                                                                                                                                                                    In [ ]:\n",
    "\n",
    "                                                                                                                                                                                                                                                                                                                                                                                                                                                                                                                                                                                                                    ​\n",
    "                                                                                                                                                                                                                                                                                                                                                                                                                                                                                                                                                                                                                    In [ ]:\n",
    "\n",
    "                                                                                                                                                                                                                                                                                                                                                                                                                                                                                                                                                                                                                    ​\n",
    "                                                                                                                                                                                                                                                                                                                                                                                                                                                                                                                                                                                                                    In [ ]:\n",
    "\n",
    "                                                                                                                                                                                                                                                                                                                                                                                                                                                                                                                                                                                                                    ​\n",
    "                                                                                                                                                                                                                                                                                                                                                                                                                                                                                                                                                                                                                    In [ ]:\n",
    "\n",
    "                                                                                                                                                                                                                                                                                                                                                                                                                                                                                                                                                                                                                    ​\n",
    "                                                                                                                                                                                                                                                                                                                                                                                                                                                                                                                                                                                                                    In [ ]:\n",
    "\n",
    "                                                                                                                                                                                                                                                                                                                                                                                                                                                                                                                                                                                                                    ​\n",
    "                                                                                                                                                                                                                                                                                                                                                                                                                                                                                                                                                                                                                    In [ ]:\n",
    "\n",
    "                                                                                                                                                                                                                                                                                                                                                                                                                                                                                                                                                                                                                    ​"
   ]
  },
  {
   "cell_type": "code",
   "execution_count": null,
   "metadata": {
    "collapsed": true
   },
   "outputs": [],
   "source": []
  },
  {
   "cell_type": "code",
   "execution_count": null,
   "metadata": {
    "collapsed": true
   },
   "outputs": [],
   "source": []
  },
  {
   "cell_type": "code",
   "execution_count": null,
   "metadata": {
    "collapsed": true
   },
   "outputs": [],
   "source": []
  },
  {
   "cell_type": "code",
   "execution_count": null,
   "metadata": {
    "collapsed": true
   },
   "outputs": [],
   "source": []
  },
  {
   "cell_type": "code",
   "execution_count": null,
   "metadata": {
    "collapsed": true
   },
   "outputs": [],
   "source": []
  },
  {
   "cell_type": "code",
   "execution_count": null,
   "metadata": {
    "collapsed": true
   },
   "outputs": [],
   "source": []
  },
  {
   "cell_type": "code",
   "execution_count": null,
   "metadata": {
    "collapsed": true
   },
   "outputs": [],
   "source": []
  },
  {
   "cell_type": "code",
   "execution_count": null,
   "metadata": {
    "collapsed": true
   },
   "outputs": [],
   "source": []
  },
  {
   "cell_type": "code",
   "execution_count": null,
   "metadata": {
    "collapsed": true
   },
   "outputs": [],
   "source": []
  },
  {
   "cell_type": "code",
   "execution_count": null,
   "metadata": {
    "collapsed": true
   },
   "outputs": [],
   "source": [
    "    "
   ]
  },
  {
   "cell_type": "code",
   "execution_count": null,
   "metadata": {
    "collapsed": true
   },
   "outputs": [],
   "source": []
  },
  {
   "cell_type": "code",
   "execution_count": 5,
   "metadata": {
    "collapsed": false
   },
   "outputs": [
    {
     "ename": "ValueError",
     "evalue": "Table 'Store' already exists.",
     "output_type": "error",
     "traceback": [
      "\u001b[1;31m---------------------------------------------------------------------------\u001b[0m",
      "\u001b[1;31mValueError\u001b[0m                                Traceback (most recent call last)",
      "\u001b[1;32m<ipython-input-5-d72ce9df3e13>\u001b[0m in \u001b[0;36m<module>\u001b[1;34m()\u001b[0m\n\u001b[1;32m----> 1\u001b[1;33m \u001b[0mdf\u001b[0m\u001b[1;33m.\u001b[0m\u001b[0mto_sql\u001b[0m\u001b[1;33m(\u001b[0m\u001b[1;34m'Store'\u001b[0m\u001b[1;33m,\u001b[0m \u001b[0mcon\u001b[0m\u001b[1;33m=\u001b[0m\u001b[0mconn\u001b[0m\u001b[1;33m,\u001b[0m \u001b[0mindex\u001b[0m\u001b[1;33m=\u001b[0m\u001b[1;32mFalse\u001b[0m\u001b[1;33m,\u001b[0m \u001b[0mif_exists\u001b[0m\u001b[1;33m=\u001b[0m\u001b[1;34m'fail'\u001b[0m\u001b[1;33m)\u001b[0m\u001b[1;33m\u001b[0m\u001b[0m\n\u001b[0m",
      "\u001b[1;32m/home/dino/anaconda3/lib/python3.5/site-packages/pandas/core/generic.py\u001b[0m in \u001b[0;36mto_sql\u001b[1;34m(self, name, con, flavor, schema, if_exists, index, index_label, chunksize, dtype)\u001b[0m\n\u001b[0;32m   1158\u001b[0m         sql.to_sql(self, name, con, flavor=flavor, schema=schema,\n\u001b[0;32m   1159\u001b[0m                    \u001b[0mif_exists\u001b[0m\u001b[1;33m=\u001b[0m\u001b[0mif_exists\u001b[0m\u001b[1;33m,\u001b[0m \u001b[0mindex\u001b[0m\u001b[1;33m=\u001b[0m\u001b[0mindex\u001b[0m\u001b[1;33m,\u001b[0m \u001b[0mindex_label\u001b[0m\u001b[1;33m=\u001b[0m\u001b[0mindex_label\u001b[0m\u001b[1;33m,\u001b[0m\u001b[1;33m\u001b[0m\u001b[0m\n\u001b[1;32m-> 1160\u001b[1;33m                    chunksize=chunksize, dtype=dtype)\n\u001b[0m\u001b[0;32m   1161\u001b[0m \u001b[1;33m\u001b[0m\u001b[0m\n\u001b[0;32m   1162\u001b[0m     \u001b[1;32mdef\u001b[0m \u001b[0mto_pickle\u001b[0m\u001b[1;33m(\u001b[0m\u001b[0mself\u001b[0m\u001b[1;33m,\u001b[0m \u001b[0mpath\u001b[0m\u001b[1;33m)\u001b[0m\u001b[1;33m:\u001b[0m\u001b[1;33m\u001b[0m\u001b[0m\n",
      "\u001b[1;32m/home/dino/anaconda3/lib/python3.5/site-packages/pandas/io/sql.py\u001b[0m in \u001b[0;36mto_sql\u001b[1;34m(frame, name, con, flavor, schema, if_exists, index, index_label, chunksize, dtype)\u001b[0m\n\u001b[0;32m    569\u001b[0m     pandas_sql.to_sql(frame, name, if_exists=if_exists, index=index,\n\u001b[0;32m    570\u001b[0m                       \u001b[0mindex_label\u001b[0m\u001b[1;33m=\u001b[0m\u001b[0mindex_label\u001b[0m\u001b[1;33m,\u001b[0m \u001b[0mschema\u001b[0m\u001b[1;33m=\u001b[0m\u001b[0mschema\u001b[0m\u001b[1;33m,\u001b[0m\u001b[1;33m\u001b[0m\u001b[0m\n\u001b[1;32m--> 571\u001b[1;33m                       chunksize=chunksize, dtype=dtype)\n\u001b[0m\u001b[0;32m    572\u001b[0m \u001b[1;33m\u001b[0m\u001b[0m\n\u001b[0;32m    573\u001b[0m \u001b[1;33m\u001b[0m\u001b[0m\n",
      "\u001b[1;32m/home/dino/anaconda3/lib/python3.5/site-packages/pandas/io/sql.py\u001b[0m in \u001b[0;36mto_sql\u001b[1;34m(self, frame, name, if_exists, index, index_label, schema, chunksize, dtype)\u001b[0m\n\u001b[0;32m   1655\u001b[0m                             \u001b[0mif_exists\u001b[0m\u001b[1;33m=\u001b[0m\u001b[0mif_exists\u001b[0m\u001b[1;33m,\u001b[0m \u001b[0mindex_label\u001b[0m\u001b[1;33m=\u001b[0m\u001b[0mindex_label\u001b[0m\u001b[1;33m,\u001b[0m\u001b[1;33m\u001b[0m\u001b[0m\n\u001b[0;32m   1656\u001b[0m                             dtype=dtype)\n\u001b[1;32m-> 1657\u001b[1;33m         \u001b[0mtable\u001b[0m\u001b[1;33m.\u001b[0m\u001b[0mcreate\u001b[0m\u001b[1;33m(\u001b[0m\u001b[1;33m)\u001b[0m\u001b[1;33m\u001b[0m\u001b[0m\n\u001b[0m\u001b[0;32m   1658\u001b[0m         \u001b[0mtable\u001b[0m\u001b[1;33m.\u001b[0m\u001b[0minsert\u001b[0m\u001b[1;33m(\u001b[0m\u001b[0mchunksize\u001b[0m\u001b[1;33m)\u001b[0m\u001b[1;33m\u001b[0m\u001b[0m\n\u001b[0;32m   1659\u001b[0m \u001b[1;33m\u001b[0m\u001b[0m\n",
      "\u001b[1;32m/home/dino/anaconda3/lib/python3.5/site-packages/pandas/io/sql.py\u001b[0m in \u001b[0;36mcreate\u001b[1;34m(self)\u001b[0m\n\u001b[0;32m    690\u001b[0m         \u001b[1;32mif\u001b[0m \u001b[0mself\u001b[0m\u001b[1;33m.\u001b[0m\u001b[0mexists\u001b[0m\u001b[1;33m(\u001b[0m\u001b[1;33m)\u001b[0m\u001b[1;33m:\u001b[0m\u001b[1;33m\u001b[0m\u001b[0m\n\u001b[0;32m    691\u001b[0m             \u001b[1;32mif\u001b[0m \u001b[0mself\u001b[0m\u001b[1;33m.\u001b[0m\u001b[0mif_exists\u001b[0m \u001b[1;33m==\u001b[0m \u001b[1;34m'fail'\u001b[0m\u001b[1;33m:\u001b[0m\u001b[1;33m\u001b[0m\u001b[0m\n\u001b[1;32m--> 692\u001b[1;33m                 \u001b[1;32mraise\u001b[0m \u001b[0mValueError\u001b[0m\u001b[1;33m(\u001b[0m\u001b[1;34m\"Table '%s' already exists.\"\u001b[0m \u001b[1;33m%\u001b[0m \u001b[0mself\u001b[0m\u001b[1;33m.\u001b[0m\u001b[0mname\u001b[0m\u001b[1;33m)\u001b[0m\u001b[1;33m\u001b[0m\u001b[0m\n\u001b[0m\u001b[0;32m    693\u001b[0m             \u001b[1;32melif\u001b[0m \u001b[0mself\u001b[0m\u001b[1;33m.\u001b[0m\u001b[0mif_exists\u001b[0m \u001b[1;33m==\u001b[0m \u001b[1;34m'replace'\u001b[0m\u001b[1;33m:\u001b[0m\u001b[1;33m\u001b[0m\u001b[0m\n\u001b[0;32m    694\u001b[0m                 \u001b[0mself\u001b[0m\u001b[1;33m.\u001b[0m\u001b[0mpd_sql\u001b[0m\u001b[1;33m.\u001b[0m\u001b[0mdrop_table\u001b[0m\u001b[1;33m(\u001b[0m\u001b[0mself\u001b[0m\u001b[1;33m.\u001b[0m\u001b[0mname\u001b[0m\u001b[1;33m,\u001b[0m \u001b[0mself\u001b[0m\u001b[1;33m.\u001b[0m\u001b[0mschema\u001b[0m\u001b[1;33m)\u001b[0m\u001b[1;33m\u001b[0m\u001b[0m\n",
      "\u001b[1;31mValueError\u001b[0m: Table 'Store' already exists."
     ]
    }
   ],
   "source": [
    "df.to_sql('Store', con=conn, index=False, if_exists='fail')"
   ]
  },
  {
   "cell_type": "code",
   "execution_count": null,
   "metadata": {
    "collapsed": true
   },
   "outputs": [],
   "source": []
  },
  {
   "cell_type": "code",
   "execution_count": null,
   "metadata": {
    "collapsed": true
   },
   "outputs": [],
   "source": []
  }
 ],
 "metadata": {
  "kernelspec": {
   "display_name": "Python 3",
   "language": "python",
   "name": "python3"
  },
  "language_info": {
   "codemirror_mode": {
    "name": "ipython",
    "version": 3
   },
   "file_extension": ".py",
   "mimetype": "text/x-python",
   "name": "python",
   "nbconvert_exporter": "python",
   "pygments_lexer": "ipython3",
   "version": "3.5.2"
  }
 },
 "nbformat": 4,
 "nbformat_minor": 0
}
